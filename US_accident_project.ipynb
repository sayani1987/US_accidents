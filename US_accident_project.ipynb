{
  "nbformat": 4,
  "nbformat_minor": 0,
  "metadata": {
    "colab": {
      "provenance": [],
      "collapsed_sections": [],
      "toc_visible": true,
      "mount_file_id": "112RjEUDKvB1jB8lbtoUIlS_9SQU7QeFA",
      "authorship_tag": "ABX9TyOXxdPLLKWQLcANmoIttCLc",
      "include_colab_link": true
    },
    "kernelspec": {
      "name": "python3",
      "display_name": "Python 3"
    },
    "language_info": {
      "name": "python"
    }
  },
  "cells": [
    {
      "cell_type": "markdown",
      "metadata": {
        "id": "view-in-github",
        "colab_type": "text"
      },
      "source": [
        "<a href=\"https://colab.research.google.com/github/sayani1987/US_accidents/blob/main/US_accident_project.ipynb\" target=\"_parent\"><img src=\"https://colab.research.google.com/assets/colab-badge.svg\" alt=\"Open In Colab\"/></a>"
      ]
    },
    {
      "cell_type": "markdown",
      "source": [
        "## US Accidents EDA\n",
        "\n",
        "TO Do--\n",
        "Talk about EDA\n",
        "Talk about data set(\n",
        "\n",
        "                   *  source- Kaggale\n",
        "                   * what it contains-Road Accident, \n",
        "                   * how it will be useful- Prevent Accidents) \n",
        "\n"
      ],
      "metadata": {
        "id": "mQnq5AsU5-fZ"
      }
    },
    {
      "cell_type": "markdown",
      "source": [
        "## DATA DOWNLOAD\n",
        "\n",
        "\n",
        "*   Load data into Colab from keggale\n",
        "\n",
        "\n"
      ],
      "metadata": {
        "id": "28Bzhxt-6REs"
      }
    },
    {
      "cell_type": "markdown",
      "source": [
        "## Data Preparation And Cleaning\n",
        "* Load the file using pandas\n",
        "* Find informations from data\n",
        "* Fix any missing data"
      ],
      "metadata": {
        "id": "hUA8WBXF6mgv"
      }
    },
    {
      "cell_type": "code",
      "source": [
        "import pandas as pd\n",
        "import numpy as np\n",
        "import matplotlib.pyplot as plt\n",
        "import seaborn as sns"
      ],
      "metadata": {
        "id": "VnuyUhQT6khV"
      },
      "execution_count": 3,
      "outputs": []
    },
    {
      "cell_type": "code",
      "source": [
        "df=pd.read_csv(\"/content/drive/MyDrive/US accident project/US_Accidents_Dec21_updated.csv\")\n",
        "df.head(5)"
      ],
      "metadata": {
        "id": "3pyKuWZI6Ghx",
        "colab": {
          "base_uri": "https://localhost:8080/",
          "height": 508
        },
        "outputId": "a8db5cf2-5c00-483e-9b78-acf332230a65"
      },
      "execution_count": 4,
      "outputs": [
        {
          "output_type": "execute_result",
          "data": {
            "text/plain": [
              "    ID  Severity           Start_Time             End_Time  Start_Lat  \\\n",
              "0  A-1         3  2016-02-08 00:37:08  2016-02-08 06:37:08  40.108910   \n",
              "1  A-2         2  2016-02-08 05:56:20  2016-02-08 11:56:20  39.865420   \n",
              "2  A-3         2  2016-02-08 06:15:39  2016-02-08 12:15:39  39.102660   \n",
              "3  A-4         2  2016-02-08 06:51:45  2016-02-08 12:51:45  41.062130   \n",
              "4  A-5         3  2016-02-08 07:53:43  2016-02-08 13:53:43  39.172393   \n",
              "\n",
              "   Start_Lng    End_Lat    End_Lng  Distance(mi)  \\\n",
              "0 -83.092860  40.112060 -83.031870         3.230   \n",
              "1 -84.062800  39.865010 -84.048730         0.747   \n",
              "2 -84.524680  39.102090 -84.523960         0.055   \n",
              "3 -81.537840  41.062170 -81.535470         0.123   \n",
              "4 -84.492792  39.170476 -84.501798         0.500   \n",
              "\n",
              "                                         Description  ...  Roundabout Station  \\\n",
              "0  Between Sawmill Rd/Exit 20 and OH-315/Olentang...  ...       False   False   \n",
              "1                 At OH-4/OH-235/Exit 41 - Accident.  ...       False   False   \n",
              "2                   At I-71/US-50/Exit 1 - Accident.  ...       False   False   \n",
              "3                    At Dart Ave/Exit 21 - Accident.  ...       False   False   \n",
              "4                 At Mitchell Ave/Exit 6 - Accident.  ...       False   False   \n",
              "\n",
              "    Stop Traffic_Calming Traffic_Signal Turning_Loop Sunrise_Sunset  \\\n",
              "0  False           False          False        False          Night   \n",
              "1  False           False          False        False          Night   \n",
              "2  False           False          False        False          Night   \n",
              "3  False           False          False        False          Night   \n",
              "4  False           False          False        False            Day   \n",
              "\n",
              "  Civil_Twilight Nautical_Twilight Astronomical_Twilight  \n",
              "0          Night             Night                 Night  \n",
              "1          Night             Night                 Night  \n",
              "2          Night             Night                   Day  \n",
              "3          Night               Day                   Day  \n",
              "4            Day               Day                   Day  \n",
              "\n",
              "[5 rows x 47 columns]"
            ],
            "text/html": [
              "\n",
              "  <div id=\"df-1254631e-2c3f-4c3b-9ad1-4b0a9333243c\">\n",
              "    <div class=\"colab-df-container\">\n",
              "      <div>\n",
              "<style scoped>\n",
              "    .dataframe tbody tr th:only-of-type {\n",
              "        vertical-align: middle;\n",
              "    }\n",
              "\n",
              "    .dataframe tbody tr th {\n",
              "        vertical-align: top;\n",
              "    }\n",
              "\n",
              "    .dataframe thead th {\n",
              "        text-align: right;\n",
              "    }\n",
              "</style>\n",
              "<table border=\"1\" class=\"dataframe\">\n",
              "  <thead>\n",
              "    <tr style=\"text-align: right;\">\n",
              "      <th></th>\n",
              "      <th>ID</th>\n",
              "      <th>Severity</th>\n",
              "      <th>Start_Time</th>\n",
              "      <th>End_Time</th>\n",
              "      <th>Start_Lat</th>\n",
              "      <th>Start_Lng</th>\n",
              "      <th>End_Lat</th>\n",
              "      <th>End_Lng</th>\n",
              "      <th>Distance(mi)</th>\n",
              "      <th>Description</th>\n",
              "      <th>...</th>\n",
              "      <th>Roundabout</th>\n",
              "      <th>Station</th>\n",
              "      <th>Stop</th>\n",
              "      <th>Traffic_Calming</th>\n",
              "      <th>Traffic_Signal</th>\n",
              "      <th>Turning_Loop</th>\n",
              "      <th>Sunrise_Sunset</th>\n",
              "      <th>Civil_Twilight</th>\n",
              "      <th>Nautical_Twilight</th>\n",
              "      <th>Astronomical_Twilight</th>\n",
              "    </tr>\n",
              "  </thead>\n",
              "  <tbody>\n",
              "    <tr>\n",
              "      <th>0</th>\n",
              "      <td>A-1</td>\n",
              "      <td>3</td>\n",
              "      <td>2016-02-08 00:37:08</td>\n",
              "      <td>2016-02-08 06:37:08</td>\n",
              "      <td>40.108910</td>\n",
              "      <td>-83.092860</td>\n",
              "      <td>40.112060</td>\n",
              "      <td>-83.031870</td>\n",
              "      <td>3.230</td>\n",
              "      <td>Between Sawmill Rd/Exit 20 and OH-315/Olentang...</td>\n",
              "      <td>...</td>\n",
              "      <td>False</td>\n",
              "      <td>False</td>\n",
              "      <td>False</td>\n",
              "      <td>False</td>\n",
              "      <td>False</td>\n",
              "      <td>False</td>\n",
              "      <td>Night</td>\n",
              "      <td>Night</td>\n",
              "      <td>Night</td>\n",
              "      <td>Night</td>\n",
              "    </tr>\n",
              "    <tr>\n",
              "      <th>1</th>\n",
              "      <td>A-2</td>\n",
              "      <td>2</td>\n",
              "      <td>2016-02-08 05:56:20</td>\n",
              "      <td>2016-02-08 11:56:20</td>\n",
              "      <td>39.865420</td>\n",
              "      <td>-84.062800</td>\n",
              "      <td>39.865010</td>\n",
              "      <td>-84.048730</td>\n",
              "      <td>0.747</td>\n",
              "      <td>At OH-4/OH-235/Exit 41 - Accident.</td>\n",
              "      <td>...</td>\n",
              "      <td>False</td>\n",
              "      <td>False</td>\n",
              "      <td>False</td>\n",
              "      <td>False</td>\n",
              "      <td>False</td>\n",
              "      <td>False</td>\n",
              "      <td>Night</td>\n",
              "      <td>Night</td>\n",
              "      <td>Night</td>\n",
              "      <td>Night</td>\n",
              "    </tr>\n",
              "    <tr>\n",
              "      <th>2</th>\n",
              "      <td>A-3</td>\n",
              "      <td>2</td>\n",
              "      <td>2016-02-08 06:15:39</td>\n",
              "      <td>2016-02-08 12:15:39</td>\n",
              "      <td>39.102660</td>\n",
              "      <td>-84.524680</td>\n",
              "      <td>39.102090</td>\n",
              "      <td>-84.523960</td>\n",
              "      <td>0.055</td>\n",
              "      <td>At I-71/US-50/Exit 1 - Accident.</td>\n",
              "      <td>...</td>\n",
              "      <td>False</td>\n",
              "      <td>False</td>\n",
              "      <td>False</td>\n",
              "      <td>False</td>\n",
              "      <td>False</td>\n",
              "      <td>False</td>\n",
              "      <td>Night</td>\n",
              "      <td>Night</td>\n",
              "      <td>Night</td>\n",
              "      <td>Day</td>\n",
              "    </tr>\n",
              "    <tr>\n",
              "      <th>3</th>\n",
              "      <td>A-4</td>\n",
              "      <td>2</td>\n",
              "      <td>2016-02-08 06:51:45</td>\n",
              "      <td>2016-02-08 12:51:45</td>\n",
              "      <td>41.062130</td>\n",
              "      <td>-81.537840</td>\n",
              "      <td>41.062170</td>\n",
              "      <td>-81.535470</td>\n",
              "      <td>0.123</td>\n",
              "      <td>At Dart Ave/Exit 21 - Accident.</td>\n",
              "      <td>...</td>\n",
              "      <td>False</td>\n",
              "      <td>False</td>\n",
              "      <td>False</td>\n",
              "      <td>False</td>\n",
              "      <td>False</td>\n",
              "      <td>False</td>\n",
              "      <td>Night</td>\n",
              "      <td>Night</td>\n",
              "      <td>Day</td>\n",
              "      <td>Day</td>\n",
              "    </tr>\n",
              "    <tr>\n",
              "      <th>4</th>\n",
              "      <td>A-5</td>\n",
              "      <td>3</td>\n",
              "      <td>2016-02-08 07:53:43</td>\n",
              "      <td>2016-02-08 13:53:43</td>\n",
              "      <td>39.172393</td>\n",
              "      <td>-84.492792</td>\n",
              "      <td>39.170476</td>\n",
              "      <td>-84.501798</td>\n",
              "      <td>0.500</td>\n",
              "      <td>At Mitchell Ave/Exit 6 - Accident.</td>\n",
              "      <td>...</td>\n",
              "      <td>False</td>\n",
              "      <td>False</td>\n",
              "      <td>False</td>\n",
              "      <td>False</td>\n",
              "      <td>False</td>\n",
              "      <td>False</td>\n",
              "      <td>Day</td>\n",
              "      <td>Day</td>\n",
              "      <td>Day</td>\n",
              "      <td>Day</td>\n",
              "    </tr>\n",
              "  </tbody>\n",
              "</table>\n",
              "<p>5 rows × 47 columns</p>\n",
              "</div>\n",
              "      <button class=\"colab-df-convert\" onclick=\"convertToInteractive('df-1254631e-2c3f-4c3b-9ad1-4b0a9333243c')\"\n",
              "              title=\"Convert this dataframe to an interactive table.\"\n",
              "              style=\"display:none;\">\n",
              "        \n",
              "  <svg xmlns=\"http://www.w3.org/2000/svg\" height=\"24px\"viewBox=\"0 0 24 24\"\n",
              "       width=\"24px\">\n",
              "    <path d=\"M0 0h24v24H0V0z\" fill=\"none\"/>\n",
              "    <path d=\"M18.56 5.44l.94 2.06.94-2.06 2.06-.94-2.06-.94-.94-2.06-.94 2.06-2.06.94zm-11 1L8.5 8.5l.94-2.06 2.06-.94-2.06-.94L8.5 2.5l-.94 2.06-2.06.94zm10 10l.94 2.06.94-2.06 2.06-.94-2.06-.94-.94-2.06-.94 2.06-2.06.94z\"/><path d=\"M17.41 7.96l-1.37-1.37c-.4-.4-.92-.59-1.43-.59-.52 0-1.04.2-1.43.59L10.3 9.45l-7.72 7.72c-.78.78-.78 2.05 0 2.83L4 21.41c.39.39.9.59 1.41.59.51 0 1.02-.2 1.41-.59l7.78-7.78 2.81-2.81c.8-.78.8-2.07 0-2.86zM5.41 20L4 18.59l7.72-7.72 1.47 1.35L5.41 20z\"/>\n",
              "  </svg>\n",
              "      </button>\n",
              "      \n",
              "  <style>\n",
              "    .colab-df-container {\n",
              "      display:flex;\n",
              "      flex-wrap:wrap;\n",
              "      gap: 12px;\n",
              "    }\n",
              "\n",
              "    .colab-df-convert {\n",
              "      background-color: #E8F0FE;\n",
              "      border: none;\n",
              "      border-radius: 50%;\n",
              "      cursor: pointer;\n",
              "      display: none;\n",
              "      fill: #1967D2;\n",
              "      height: 32px;\n",
              "      padding: 0 0 0 0;\n",
              "      width: 32px;\n",
              "    }\n",
              "\n",
              "    .colab-df-convert:hover {\n",
              "      background-color: #E2EBFA;\n",
              "      box-shadow: 0px 1px 2px rgba(60, 64, 67, 0.3), 0px 1px 3px 1px rgba(60, 64, 67, 0.15);\n",
              "      fill: #174EA6;\n",
              "    }\n",
              "\n",
              "    [theme=dark] .colab-df-convert {\n",
              "      background-color: #3B4455;\n",
              "      fill: #D2E3FC;\n",
              "    }\n",
              "\n",
              "    [theme=dark] .colab-df-convert:hover {\n",
              "      background-color: #434B5C;\n",
              "      box-shadow: 0px 1px 3px 1px rgba(0, 0, 0, 0.15);\n",
              "      filter: drop-shadow(0px 1px 2px rgba(0, 0, 0, 0.3));\n",
              "      fill: #FFFFFF;\n",
              "    }\n",
              "  </style>\n",
              "\n",
              "      <script>\n",
              "        const buttonEl =\n",
              "          document.querySelector('#df-1254631e-2c3f-4c3b-9ad1-4b0a9333243c button.colab-df-convert');\n",
              "        buttonEl.style.display =\n",
              "          google.colab.kernel.accessAllowed ? 'block' : 'none';\n",
              "\n",
              "        async function convertToInteractive(key) {\n",
              "          const element = document.querySelector('#df-1254631e-2c3f-4c3b-9ad1-4b0a9333243c');\n",
              "          const dataTable =\n",
              "            await google.colab.kernel.invokeFunction('convertToInteractive',\n",
              "                                                     [key], {});\n",
              "          if (!dataTable) return;\n",
              "\n",
              "          const docLinkHtml = 'Like what you see? Visit the ' +\n",
              "            '<a target=\"_blank\" href=https://colab.research.google.com/notebooks/data_table.ipynb>data table notebook</a>'\n",
              "            + ' to learn more about interactive tables.';\n",
              "          element.innerHTML = '';\n",
              "          dataTable['output_type'] = 'display_data';\n",
              "          await google.colab.output.renderOutput(dataTable, element);\n",
              "          const docLink = document.createElement('div');\n",
              "          docLink.innerHTML = docLinkHtml;\n",
              "          element.appendChild(docLink);\n",
              "        }\n",
              "      </script>\n",
              "    </div>\n",
              "  </div>\n",
              "  "
            ]
          },
          "metadata": {},
          "execution_count": 4
        }
      ]
    },
    {
      "cell_type": "code",
      "source": [
        "df.columns"
      ],
      "metadata": {
        "colab": {
          "base_uri": "https://localhost:8080/"
        },
        "id": "ixVQPCxg9Yes",
        "outputId": "b5641d33-ad1f-4e9f-ca1a-d1e2d1bc7d89"
      },
      "execution_count": 5,
      "outputs": [
        {
          "output_type": "execute_result",
          "data": {
            "text/plain": [
              "Index(['ID', 'Severity', 'Start_Time', 'End_Time', 'Start_Lat', 'Start_Lng',\n",
              "       'End_Lat', 'End_Lng', 'Distance(mi)', 'Description', 'Number', 'Street',\n",
              "       'Side', 'City', 'County', 'State', 'Zipcode', 'Country', 'Timezone',\n",
              "       'Airport_Code', 'Weather_Timestamp', 'Temperature(F)', 'Wind_Chill(F)',\n",
              "       'Humidity(%)', 'Pressure(in)', 'Visibility(mi)', 'Wind_Direction',\n",
              "       'Wind_Speed(mph)', 'Precipitation(in)', 'Weather_Condition', 'Amenity',\n",
              "       'Bump', 'Crossing', 'Give_Way', 'Junction', 'No_Exit', 'Railway',\n",
              "       'Roundabout', 'Station', 'Stop', 'Traffic_Calming', 'Traffic_Signal',\n",
              "       'Turning_Loop', 'Sunrise_Sunset', 'Civil_Twilight', 'Nautical_Twilight',\n",
              "       'Astronomical_Twilight'],\n",
              "      dtype='object')"
            ]
          },
          "metadata": {},
          "execution_count": 5
        }
      ]
    },
    {
      "cell_type": "code",
      "source": [
        "df.info()   #It will give all the informations about the data"
      ],
      "metadata": {
        "colab": {
          "base_uri": "https://localhost:8080/"
        },
        "id": "_vbWqV8X9gEA",
        "outputId": "b04c6b37-e718-490e-e165-f1764b327b02"
      },
      "execution_count": 6,
      "outputs": [
        {
          "output_type": "stream",
          "name": "stdout",
          "text": [
            "<class 'pandas.core.frame.DataFrame'>\n",
            "RangeIndex: 2845342 entries, 0 to 2845341\n",
            "Data columns (total 47 columns):\n",
            " #   Column                 Dtype  \n",
            "---  ------                 -----  \n",
            " 0   ID                     object \n",
            " 1   Severity               int64  \n",
            " 2   Start_Time             object \n",
            " 3   End_Time               object \n",
            " 4   Start_Lat              float64\n",
            " 5   Start_Lng              float64\n",
            " 6   End_Lat                float64\n",
            " 7   End_Lng                float64\n",
            " 8   Distance(mi)           float64\n",
            " 9   Description            object \n",
            " 10  Number                 float64\n",
            " 11  Street                 object \n",
            " 12  Side                   object \n",
            " 13  City                   object \n",
            " 14  County                 object \n",
            " 15  State                  object \n",
            " 16  Zipcode                object \n",
            " 17  Country                object \n",
            " 18  Timezone               object \n",
            " 19  Airport_Code           object \n",
            " 20  Weather_Timestamp      object \n",
            " 21  Temperature(F)         float64\n",
            " 22  Wind_Chill(F)          float64\n",
            " 23  Humidity(%)            float64\n",
            " 24  Pressure(in)           float64\n",
            " 25  Visibility(mi)         float64\n",
            " 26  Wind_Direction         object \n",
            " 27  Wind_Speed(mph)        float64\n",
            " 28  Precipitation(in)      float64\n",
            " 29  Weather_Condition      object \n",
            " 30  Amenity                bool   \n",
            " 31  Bump                   bool   \n",
            " 32  Crossing               bool   \n",
            " 33  Give_Way               bool   \n",
            " 34  Junction               bool   \n",
            " 35  No_Exit                bool   \n",
            " 36  Railway                bool   \n",
            " 37  Roundabout             bool   \n",
            " 38  Station                bool   \n",
            " 39  Stop                   bool   \n",
            " 40  Traffic_Calming        bool   \n",
            " 41  Traffic_Signal         bool   \n",
            " 42  Turning_Loop           bool   \n",
            " 43  Sunrise_Sunset         object \n",
            " 44  Civil_Twilight         object \n",
            " 45  Nautical_Twilight      object \n",
            " 46  Astronomical_Twilight  object \n",
            "dtypes: bool(13), float64(13), int64(1), object(20)\n",
            "memory usage: 773.4+ MB\n"
          ]
        }
      ]
    },
    {
      "cell_type": "code",
      "source": [
        "df.describe()   # summary statistics"
      ],
      "metadata": {
        "colab": {
          "base_uri": "https://localhost:8080/",
          "height": 364
        },
        "id": "EeWvhCp4-R6M",
        "outputId": "eedb15ac-c28f-4bb2-f3e1-c839bc0135de"
      },
      "execution_count": 7,
      "outputs": [
        {
          "output_type": "execute_result",
          "data": {
            "text/plain": [
              "           Severity     Start_Lat     Start_Lng       End_Lat       End_Lng  \\\n",
              "count  2.845342e+06  2.845342e+06  2.845342e+06  2.845342e+06  2.845342e+06   \n",
              "mean   2.137572e+00  3.624520e+01 -9.711463e+01  3.624532e+01 -9.711439e+01   \n",
              "std    4.787216e-01  5.363797e+00  1.831782e+01  5.363873e+00  1.831763e+01   \n",
              "min    1.000000e+00  2.456603e+01 -1.245481e+02  2.456601e+01 -1.245457e+02   \n",
              "25%    2.000000e+00  3.344517e+01 -1.180331e+02  3.344628e+01 -1.180333e+02   \n",
              "50%    2.000000e+00  3.609861e+01 -9.241808e+01  3.609799e+01 -9.241772e+01   \n",
              "75%    2.000000e+00  4.016024e+01 -8.037243e+01  4.016105e+01 -8.037338e+01   \n",
              "max    4.000000e+00  4.900058e+01 -6.711317e+01  4.907500e+01 -6.710924e+01   \n",
              "\n",
              "       Distance(mi)        Number  Temperature(F)  Wind_Chill(F)  \\\n",
              "count  2.845342e+06  1.101431e+06    2.776068e+06   2.375699e+06   \n",
              "mean   7.026779e-01  8.089408e+03    6.179356e+01   5.965823e+01   \n",
              "std    1.560361e+00  1.836009e+04    1.862263e+01   2.116097e+01   \n",
              "min    0.000000e+00  0.000000e+00   -8.900000e+01  -8.900000e+01   \n",
              "25%    5.200000e-02  1.270000e+03    5.000000e+01   4.600000e+01   \n",
              "50%    2.440000e-01  4.007000e+03    6.400000e+01   6.300000e+01   \n",
              "75%    7.640000e-01  9.567000e+03    7.600000e+01   7.600000e+01   \n",
              "max    1.551860e+02  9.999997e+06    1.960000e+02   1.960000e+02   \n",
              "\n",
              "        Humidity(%)  Pressure(in)  Visibility(mi)  Wind_Speed(mph)  \\\n",
              "count  2.772250e+06  2.786142e+06    2.774796e+06     2.687398e+06   \n",
              "mean   6.436545e+01  2.947234e+01    9.099391e+00     7.395044e+00   \n",
              "std    2.287457e+01  1.045286e+00    2.717546e+00     5.527454e+00   \n",
              "min    1.000000e+00  0.000000e+00    0.000000e+00     0.000000e+00   \n",
              "25%    4.800000e+01  2.931000e+01    1.000000e+01     3.500000e+00   \n",
              "50%    6.700000e+01  2.982000e+01    1.000000e+01     7.000000e+00   \n",
              "75%    8.300000e+01  3.001000e+01    1.000000e+01     1.000000e+01   \n",
              "max    1.000000e+02  5.890000e+01    1.400000e+02     1.087000e+03   \n",
              "\n",
              "       Precipitation(in)  \n",
              "count       2.295884e+06  \n",
              "mean        7.016940e-03  \n",
              "std         9.348831e-02  \n",
              "min         0.000000e+00  \n",
              "25%         0.000000e+00  \n",
              "50%         0.000000e+00  \n",
              "75%         0.000000e+00  \n",
              "max         2.400000e+01  "
            ],
            "text/html": [
              "\n",
              "  <div id=\"df-b9c40462-c38d-4b5c-9471-25a2e57238f8\">\n",
              "    <div class=\"colab-df-container\">\n",
              "      <div>\n",
              "<style scoped>\n",
              "    .dataframe tbody tr th:only-of-type {\n",
              "        vertical-align: middle;\n",
              "    }\n",
              "\n",
              "    .dataframe tbody tr th {\n",
              "        vertical-align: top;\n",
              "    }\n",
              "\n",
              "    .dataframe thead th {\n",
              "        text-align: right;\n",
              "    }\n",
              "</style>\n",
              "<table border=\"1\" class=\"dataframe\">\n",
              "  <thead>\n",
              "    <tr style=\"text-align: right;\">\n",
              "      <th></th>\n",
              "      <th>Severity</th>\n",
              "      <th>Start_Lat</th>\n",
              "      <th>Start_Lng</th>\n",
              "      <th>End_Lat</th>\n",
              "      <th>End_Lng</th>\n",
              "      <th>Distance(mi)</th>\n",
              "      <th>Number</th>\n",
              "      <th>Temperature(F)</th>\n",
              "      <th>Wind_Chill(F)</th>\n",
              "      <th>Humidity(%)</th>\n",
              "      <th>Pressure(in)</th>\n",
              "      <th>Visibility(mi)</th>\n",
              "      <th>Wind_Speed(mph)</th>\n",
              "      <th>Precipitation(in)</th>\n",
              "    </tr>\n",
              "  </thead>\n",
              "  <tbody>\n",
              "    <tr>\n",
              "      <th>count</th>\n",
              "      <td>2.845342e+06</td>\n",
              "      <td>2.845342e+06</td>\n",
              "      <td>2.845342e+06</td>\n",
              "      <td>2.845342e+06</td>\n",
              "      <td>2.845342e+06</td>\n",
              "      <td>2.845342e+06</td>\n",
              "      <td>1.101431e+06</td>\n",
              "      <td>2.776068e+06</td>\n",
              "      <td>2.375699e+06</td>\n",
              "      <td>2.772250e+06</td>\n",
              "      <td>2.786142e+06</td>\n",
              "      <td>2.774796e+06</td>\n",
              "      <td>2.687398e+06</td>\n",
              "      <td>2.295884e+06</td>\n",
              "    </tr>\n",
              "    <tr>\n",
              "      <th>mean</th>\n",
              "      <td>2.137572e+00</td>\n",
              "      <td>3.624520e+01</td>\n",
              "      <td>-9.711463e+01</td>\n",
              "      <td>3.624532e+01</td>\n",
              "      <td>-9.711439e+01</td>\n",
              "      <td>7.026779e-01</td>\n",
              "      <td>8.089408e+03</td>\n",
              "      <td>6.179356e+01</td>\n",
              "      <td>5.965823e+01</td>\n",
              "      <td>6.436545e+01</td>\n",
              "      <td>2.947234e+01</td>\n",
              "      <td>9.099391e+00</td>\n",
              "      <td>7.395044e+00</td>\n",
              "      <td>7.016940e-03</td>\n",
              "    </tr>\n",
              "    <tr>\n",
              "      <th>std</th>\n",
              "      <td>4.787216e-01</td>\n",
              "      <td>5.363797e+00</td>\n",
              "      <td>1.831782e+01</td>\n",
              "      <td>5.363873e+00</td>\n",
              "      <td>1.831763e+01</td>\n",
              "      <td>1.560361e+00</td>\n",
              "      <td>1.836009e+04</td>\n",
              "      <td>1.862263e+01</td>\n",
              "      <td>2.116097e+01</td>\n",
              "      <td>2.287457e+01</td>\n",
              "      <td>1.045286e+00</td>\n",
              "      <td>2.717546e+00</td>\n",
              "      <td>5.527454e+00</td>\n",
              "      <td>9.348831e-02</td>\n",
              "    </tr>\n",
              "    <tr>\n",
              "      <th>min</th>\n",
              "      <td>1.000000e+00</td>\n",
              "      <td>2.456603e+01</td>\n",
              "      <td>-1.245481e+02</td>\n",
              "      <td>2.456601e+01</td>\n",
              "      <td>-1.245457e+02</td>\n",
              "      <td>0.000000e+00</td>\n",
              "      <td>0.000000e+00</td>\n",
              "      <td>-8.900000e+01</td>\n",
              "      <td>-8.900000e+01</td>\n",
              "      <td>1.000000e+00</td>\n",
              "      <td>0.000000e+00</td>\n",
              "      <td>0.000000e+00</td>\n",
              "      <td>0.000000e+00</td>\n",
              "      <td>0.000000e+00</td>\n",
              "    </tr>\n",
              "    <tr>\n",
              "      <th>25%</th>\n",
              "      <td>2.000000e+00</td>\n",
              "      <td>3.344517e+01</td>\n",
              "      <td>-1.180331e+02</td>\n",
              "      <td>3.344628e+01</td>\n",
              "      <td>-1.180333e+02</td>\n",
              "      <td>5.200000e-02</td>\n",
              "      <td>1.270000e+03</td>\n",
              "      <td>5.000000e+01</td>\n",
              "      <td>4.600000e+01</td>\n",
              "      <td>4.800000e+01</td>\n",
              "      <td>2.931000e+01</td>\n",
              "      <td>1.000000e+01</td>\n",
              "      <td>3.500000e+00</td>\n",
              "      <td>0.000000e+00</td>\n",
              "    </tr>\n",
              "    <tr>\n",
              "      <th>50%</th>\n",
              "      <td>2.000000e+00</td>\n",
              "      <td>3.609861e+01</td>\n",
              "      <td>-9.241808e+01</td>\n",
              "      <td>3.609799e+01</td>\n",
              "      <td>-9.241772e+01</td>\n",
              "      <td>2.440000e-01</td>\n",
              "      <td>4.007000e+03</td>\n",
              "      <td>6.400000e+01</td>\n",
              "      <td>6.300000e+01</td>\n",
              "      <td>6.700000e+01</td>\n",
              "      <td>2.982000e+01</td>\n",
              "      <td>1.000000e+01</td>\n",
              "      <td>7.000000e+00</td>\n",
              "      <td>0.000000e+00</td>\n",
              "    </tr>\n",
              "    <tr>\n",
              "      <th>75%</th>\n",
              "      <td>2.000000e+00</td>\n",
              "      <td>4.016024e+01</td>\n",
              "      <td>-8.037243e+01</td>\n",
              "      <td>4.016105e+01</td>\n",
              "      <td>-8.037338e+01</td>\n",
              "      <td>7.640000e-01</td>\n",
              "      <td>9.567000e+03</td>\n",
              "      <td>7.600000e+01</td>\n",
              "      <td>7.600000e+01</td>\n",
              "      <td>8.300000e+01</td>\n",
              "      <td>3.001000e+01</td>\n",
              "      <td>1.000000e+01</td>\n",
              "      <td>1.000000e+01</td>\n",
              "      <td>0.000000e+00</td>\n",
              "    </tr>\n",
              "    <tr>\n",
              "      <th>max</th>\n",
              "      <td>4.000000e+00</td>\n",
              "      <td>4.900058e+01</td>\n",
              "      <td>-6.711317e+01</td>\n",
              "      <td>4.907500e+01</td>\n",
              "      <td>-6.710924e+01</td>\n",
              "      <td>1.551860e+02</td>\n",
              "      <td>9.999997e+06</td>\n",
              "      <td>1.960000e+02</td>\n",
              "      <td>1.960000e+02</td>\n",
              "      <td>1.000000e+02</td>\n",
              "      <td>5.890000e+01</td>\n",
              "      <td>1.400000e+02</td>\n",
              "      <td>1.087000e+03</td>\n",
              "      <td>2.400000e+01</td>\n",
              "    </tr>\n",
              "  </tbody>\n",
              "</table>\n",
              "</div>\n",
              "      <button class=\"colab-df-convert\" onclick=\"convertToInteractive('df-b9c40462-c38d-4b5c-9471-25a2e57238f8')\"\n",
              "              title=\"Convert this dataframe to an interactive table.\"\n",
              "              style=\"display:none;\">\n",
              "        \n",
              "  <svg xmlns=\"http://www.w3.org/2000/svg\" height=\"24px\"viewBox=\"0 0 24 24\"\n",
              "       width=\"24px\">\n",
              "    <path d=\"M0 0h24v24H0V0z\" fill=\"none\"/>\n",
              "    <path d=\"M18.56 5.44l.94 2.06.94-2.06 2.06-.94-2.06-.94-.94-2.06-.94 2.06-2.06.94zm-11 1L8.5 8.5l.94-2.06 2.06-.94-2.06-.94L8.5 2.5l-.94 2.06-2.06.94zm10 10l.94 2.06.94-2.06 2.06-.94-2.06-.94-.94-2.06-.94 2.06-2.06.94z\"/><path d=\"M17.41 7.96l-1.37-1.37c-.4-.4-.92-.59-1.43-.59-.52 0-1.04.2-1.43.59L10.3 9.45l-7.72 7.72c-.78.78-.78 2.05 0 2.83L4 21.41c.39.39.9.59 1.41.59.51 0 1.02-.2 1.41-.59l7.78-7.78 2.81-2.81c.8-.78.8-2.07 0-2.86zM5.41 20L4 18.59l7.72-7.72 1.47 1.35L5.41 20z\"/>\n",
              "  </svg>\n",
              "      </button>\n",
              "      \n",
              "  <style>\n",
              "    .colab-df-container {\n",
              "      display:flex;\n",
              "      flex-wrap:wrap;\n",
              "      gap: 12px;\n",
              "    }\n",
              "\n",
              "    .colab-df-convert {\n",
              "      background-color: #E8F0FE;\n",
              "      border: none;\n",
              "      border-radius: 50%;\n",
              "      cursor: pointer;\n",
              "      display: none;\n",
              "      fill: #1967D2;\n",
              "      height: 32px;\n",
              "      padding: 0 0 0 0;\n",
              "      width: 32px;\n",
              "    }\n",
              "\n",
              "    .colab-df-convert:hover {\n",
              "      background-color: #E2EBFA;\n",
              "      box-shadow: 0px 1px 2px rgba(60, 64, 67, 0.3), 0px 1px 3px 1px rgba(60, 64, 67, 0.15);\n",
              "      fill: #174EA6;\n",
              "    }\n",
              "\n",
              "    [theme=dark] .colab-df-convert {\n",
              "      background-color: #3B4455;\n",
              "      fill: #D2E3FC;\n",
              "    }\n",
              "\n",
              "    [theme=dark] .colab-df-convert:hover {\n",
              "      background-color: #434B5C;\n",
              "      box-shadow: 0px 1px 3px 1px rgba(0, 0, 0, 0.15);\n",
              "      filter: drop-shadow(0px 1px 2px rgba(0, 0, 0, 0.3));\n",
              "      fill: #FFFFFF;\n",
              "    }\n",
              "  </style>\n",
              "\n",
              "      <script>\n",
              "        const buttonEl =\n",
              "          document.querySelector('#df-b9c40462-c38d-4b5c-9471-25a2e57238f8 button.colab-df-convert');\n",
              "        buttonEl.style.display =\n",
              "          google.colab.kernel.accessAllowed ? 'block' : 'none';\n",
              "\n",
              "        async function convertToInteractive(key) {\n",
              "          const element = document.querySelector('#df-b9c40462-c38d-4b5c-9471-25a2e57238f8');\n",
              "          const dataTable =\n",
              "            await google.colab.kernel.invokeFunction('convertToInteractive',\n",
              "                                                     [key], {});\n",
              "          if (!dataTable) return;\n",
              "\n",
              "          const docLinkHtml = 'Like what you see? Visit the ' +\n",
              "            '<a target=\"_blank\" href=https://colab.research.google.com/notebooks/data_table.ipynb>data table notebook</a>'\n",
              "            + ' to learn more about interactive tables.';\n",
              "          element.innerHTML = '';\n",
              "          dataTable['output_type'] = 'display_data';\n",
              "          await google.colab.output.renderOutput(dataTable, element);\n",
              "          const docLink = document.createElement('div');\n",
              "          docLink.innerHTML = docLinkHtml;\n",
              "          element.appendChild(docLink);\n",
              "        }\n",
              "      </script>\n",
              "    </div>\n",
              "  </div>\n",
              "  "
            ]
          },
          "metadata": {},
          "execution_count": 7
        }
      ]
    },
    {
      "cell_type": "code",
      "source": [
        "df.dtypes"
      ],
      "metadata": {
        "colab": {
          "base_uri": "https://localhost:8080/"
        },
        "id": "sTpOPZJEBK9P",
        "outputId": "3a9c7d9f-16e2-49f1-b519-8d61949ad578"
      },
      "execution_count": 8,
      "outputs": [
        {
          "output_type": "execute_result",
          "data": {
            "text/plain": [
              "ID                        object\n",
              "Severity                   int64\n",
              "Start_Time                object\n",
              "End_Time                  object\n",
              "Start_Lat                float64\n",
              "Start_Lng                float64\n",
              "End_Lat                  float64\n",
              "End_Lng                  float64\n",
              "Distance(mi)             float64\n",
              "Description               object\n",
              "Number                   float64\n",
              "Street                    object\n",
              "Side                      object\n",
              "City                      object\n",
              "County                    object\n",
              "State                     object\n",
              "Zipcode                   object\n",
              "Country                   object\n",
              "Timezone                  object\n",
              "Airport_Code              object\n",
              "Weather_Timestamp         object\n",
              "Temperature(F)           float64\n",
              "Wind_Chill(F)            float64\n",
              "Humidity(%)              float64\n",
              "Pressure(in)             float64\n",
              "Visibility(mi)           float64\n",
              "Wind_Direction            object\n",
              "Wind_Speed(mph)          float64\n",
              "Precipitation(in)        float64\n",
              "Weather_Condition         object\n",
              "Amenity                     bool\n",
              "Bump                        bool\n",
              "Crossing                    bool\n",
              "Give_Way                    bool\n",
              "Junction                    bool\n",
              "No_Exit                     bool\n",
              "Railway                     bool\n",
              "Roundabout                  bool\n",
              "Station                     bool\n",
              "Stop                        bool\n",
              "Traffic_Calming             bool\n",
              "Traffic_Signal              bool\n",
              "Turning_Loop                bool\n",
              "Sunrise_Sunset            object\n",
              "Civil_Twilight            object\n",
              "Nautical_Twilight         object\n",
              "Astronomical_Twilight     object\n",
              "dtype: object"
            ]
          },
          "metadata": {},
          "execution_count": 8
        }
      ]
    },
    {
      "cell_type": "markdown",
      "source": [
        "--Find the missing values"
      ],
      "metadata": {
        "id": "vfWSKJp8BovC"
      }
    },
    {
      "cell_type": "code",
      "source": [
        "df.isnull().sum()"
      ],
      "metadata": {
        "colab": {
          "base_uri": "https://localhost:8080/"
        },
        "id": "rSOh4Le4BoLy",
        "outputId": "20f93061-12d5-47ae-ec95-4b5bbb431973"
      },
      "execution_count": 9,
      "outputs": [
        {
          "output_type": "execute_result",
          "data": {
            "text/plain": [
              "ID                             0\n",
              "Severity                       0\n",
              "Start_Time                     0\n",
              "End_Time                       0\n",
              "Start_Lat                      0\n",
              "Start_Lng                      0\n",
              "End_Lat                        0\n",
              "End_Lng                        0\n",
              "Distance(mi)                   0\n",
              "Description                    0\n",
              "Number                   1743911\n",
              "Street                         2\n",
              "Side                           0\n",
              "City                         137\n",
              "County                         0\n",
              "State                          0\n",
              "Zipcode                     1319\n",
              "Country                        0\n",
              "Timezone                    3659\n",
              "Airport_Code                9549\n",
              "Weather_Timestamp          50736\n",
              "Temperature(F)             69274\n",
              "Wind_Chill(F)             469643\n",
              "Humidity(%)                73092\n",
              "Pressure(in)               59200\n",
              "Visibility(mi)             70546\n",
              "Wind_Direction             73775\n",
              "Wind_Speed(mph)           157944\n",
              "Precipitation(in)         549458\n",
              "Weather_Condition          70636\n",
              "Amenity                        0\n",
              "Bump                           0\n",
              "Crossing                       0\n",
              "Give_Way                       0\n",
              "Junction                       0\n",
              "No_Exit                        0\n",
              "Railway                        0\n",
              "Roundabout                     0\n",
              "Station                        0\n",
              "Stop                           0\n",
              "Traffic_Calming                0\n",
              "Traffic_Signal                 0\n",
              "Turning_Loop                   0\n",
              "Sunrise_Sunset              2867\n",
              "Civil_Twilight              2867\n",
              "Nautical_Twilight           2867\n",
              "Astronomical_Twilight       2867\n",
              "dtype: int64"
            ]
          },
          "metadata": {},
          "execution_count": 9
        }
      ]
    },
    {
      "cell_type": "markdown",
      "source": [
        "-- Find percentage of missing values per column"
      ],
      "metadata": {
        "id": "TnHv7P14ClOr"
      }
    },
    {
      "cell_type": "code",
      "source": [
        "data=df.isna().sum().sort_values(ascending=False)"
      ],
      "metadata": {
        "id": "7a-TNlb4CqHi"
      },
      "execution_count": 10,
      "outputs": []
    },
    {
      "cell_type": "code",
      "source": [
        "data"
      ],
      "metadata": {
        "colab": {
          "base_uri": "https://localhost:8080/"
        },
        "id": "8NODUV9gG2ks",
        "outputId": "f3db335b-16da-4a0d-e538-0e60270ecdc5"
      },
      "execution_count": 11,
      "outputs": [
        {
          "output_type": "execute_result",
          "data": {
            "text/plain": [
              "Number                   1743911\n",
              "Precipitation(in)         549458\n",
              "Wind_Chill(F)             469643\n",
              "Wind_Speed(mph)           157944\n",
              "Wind_Direction             73775\n",
              "Humidity(%)                73092\n",
              "Weather_Condition          70636\n",
              "Visibility(mi)             70546\n",
              "Temperature(F)             69274\n",
              "Pressure(in)               59200\n",
              "Weather_Timestamp          50736\n",
              "Airport_Code                9549\n",
              "Timezone                    3659\n",
              "Nautical_Twilight           2867\n",
              "Civil_Twilight              2867\n",
              "Sunrise_Sunset              2867\n",
              "Astronomical_Twilight       2867\n",
              "Zipcode                     1319\n",
              "City                         137\n",
              "Street                         2\n",
              "Country                        0\n",
              "Junction                       0\n",
              "Start_Time                     0\n",
              "End_Time                       0\n",
              "Start_Lat                      0\n",
              "Turning_Loop                   0\n",
              "Traffic_Signal                 0\n",
              "Traffic_Calming                0\n",
              "Stop                           0\n",
              "Station                        0\n",
              "Roundabout                     0\n",
              "Railway                        0\n",
              "No_Exit                        0\n",
              "Crossing                       0\n",
              "Give_Way                       0\n",
              "Bump                           0\n",
              "Amenity                        0\n",
              "Start_Lng                      0\n",
              "End_Lat                        0\n",
              "End_Lng                        0\n",
              "Distance(mi)                   0\n",
              "Description                    0\n",
              "Severity                       0\n",
              "Side                           0\n",
              "County                         0\n",
              "State                          0\n",
              "ID                             0\n",
              "dtype: int64"
            ]
          },
          "metadata": {},
          "execution_count": 11
        }
      ]
    },
    {
      "cell_type": "markdown",
      "source": [
        "Find the total number of rows, after that if we devide all the columns with total number of rows we will get percentages"
      ],
      "metadata": {
        "id": "NR29XwaTE0q4"
      }
    },
    {
      "cell_type": "code",
      "source": [
        "len(df)"
      ],
      "metadata": {
        "colab": {
          "base_uri": "https://localhost:8080/"
        },
        "id": "T3MIdSfYEz-v",
        "outputId": "a74d53c4-21e3-4499-e81a-f77403c3b671"
      },
      "execution_count": 12,
      "outputs": [
        {
          "output_type": "execute_result",
          "data": {
            "text/plain": [
              "2845342"
            ]
          },
          "metadata": {},
          "execution_count": 12
        }
      ]
    },
    {
      "cell_type": "code",
      "source": [
        "data_percentage=data/len(df)\n",
        "data_percentage"
      ],
      "metadata": {
        "colab": {
          "base_uri": "https://localhost:8080/"
        },
        "id": "eC-DdR_1Gvqw",
        "outputId": "f973bfaa-8260-43d8-d379-49c5fdbf0631"
      },
      "execution_count": 13,
      "outputs": [
        {
          "output_type": "execute_result",
          "data": {
            "text/plain": [
              "Number                   6.129003e-01\n",
              "Precipitation(in)        1.931079e-01\n",
              "Wind_Chill(F)            1.650568e-01\n",
              "Wind_Speed(mph)          5.550967e-02\n",
              "Wind_Direction           2.592834e-02\n",
              "Humidity(%)              2.568830e-02\n",
              "Weather_Condition        2.482514e-02\n",
              "Visibility(mi)           2.479350e-02\n",
              "Temperature(F)           2.434646e-02\n",
              "Pressure(in)             2.080593e-02\n",
              "Weather_Timestamp        1.783125e-02\n",
              "Airport_Code             3.356011e-03\n",
              "Timezone                 1.285961e-03\n",
              "Nautical_Twilight        1.007612e-03\n",
              "Civil_Twilight           1.007612e-03\n",
              "Sunrise_Sunset           1.007612e-03\n",
              "Astronomical_Twilight    1.007612e-03\n",
              "Zipcode                  4.635647e-04\n",
              "City                     4.814887e-05\n",
              "Street                   7.029032e-07\n",
              "Country                  0.000000e+00\n",
              "Junction                 0.000000e+00\n",
              "Start_Time               0.000000e+00\n",
              "End_Time                 0.000000e+00\n",
              "Start_Lat                0.000000e+00\n",
              "Turning_Loop             0.000000e+00\n",
              "Traffic_Signal           0.000000e+00\n",
              "Traffic_Calming          0.000000e+00\n",
              "Stop                     0.000000e+00\n",
              "Station                  0.000000e+00\n",
              "Roundabout               0.000000e+00\n",
              "Railway                  0.000000e+00\n",
              "No_Exit                  0.000000e+00\n",
              "Crossing                 0.000000e+00\n",
              "Give_Way                 0.000000e+00\n",
              "Bump                     0.000000e+00\n",
              "Amenity                  0.000000e+00\n",
              "Start_Lng                0.000000e+00\n",
              "End_Lat                  0.000000e+00\n",
              "End_Lng                  0.000000e+00\n",
              "Distance(mi)             0.000000e+00\n",
              "Description              0.000000e+00\n",
              "Severity                 0.000000e+00\n",
              "Side                     0.000000e+00\n",
              "County                   0.000000e+00\n",
              "State                    0.000000e+00\n",
              "ID                       0.000000e+00\n",
              "dtype: float64"
            ]
          },
          "metadata": {},
          "execution_count": 13
        }
      ]
    },
    {
      "cell_type": "markdown",
      "source": [
        "From above we got for all the columns which have mssing values, and which have not any missing values in percentage.\n",
        "now  we have to filter those columns which have only missing values "
      ],
      "metadata": {
        "id": "nA14Pjk0HJf9"
      }
    },
    {
      "cell_type": "code",
      "source": [
        "only_missing_values=data_percentage[data_percentage!=0]  # collecting those values which are not zeros"
      ],
      "metadata": {
        "id": "XHAkEMbDH0Oq"
      },
      "execution_count": 14,
      "outputs": []
    },
    {
      "cell_type": "code",
      "source": [
        "only_missing_values"
      ],
      "metadata": {
        "colab": {
          "base_uri": "https://localhost:8080/"
        },
        "id": "SC37l_tpIRv3",
        "outputId": "3f914895-6b6e-44f3-b1de-859fc3ed9529"
      },
      "execution_count": 15,
      "outputs": [
        {
          "output_type": "execute_result",
          "data": {
            "text/plain": [
              "Number                   6.129003e-01\n",
              "Precipitation(in)        1.931079e-01\n",
              "Wind_Chill(F)            1.650568e-01\n",
              "Wind_Speed(mph)          5.550967e-02\n",
              "Wind_Direction           2.592834e-02\n",
              "Humidity(%)              2.568830e-02\n",
              "Weather_Condition        2.482514e-02\n",
              "Visibility(mi)           2.479350e-02\n",
              "Temperature(F)           2.434646e-02\n",
              "Pressure(in)             2.080593e-02\n",
              "Weather_Timestamp        1.783125e-02\n",
              "Airport_Code             3.356011e-03\n",
              "Timezone                 1.285961e-03\n",
              "Nautical_Twilight        1.007612e-03\n",
              "Civil_Twilight           1.007612e-03\n",
              "Sunrise_Sunset           1.007612e-03\n",
              "Astronomical_Twilight    1.007612e-03\n",
              "Zipcode                  4.635647e-04\n",
              "City                     4.814887e-05\n",
              "Street                   7.029032e-07\n",
              "dtype: float64"
            ]
          },
          "metadata": {},
          "execution_count": 15
        }
      ]
    },
    {
      "cell_type": "markdown",
      "source": [
        "Plot it in bar graph"
      ],
      "metadata": {
        "id": "nRP6IXJUIXGi"
      }
    },
    {
      "cell_type": "code",
      "source": [
        "plot_bar=only_missing_values.plot(kind='barh')\n",
        "plot_bar"
      ],
      "metadata": {
        "colab": {
          "base_uri": "https://localhost:8080/",
          "height": 282
        },
        "id": "EGbWH2gTIWC7",
        "outputId": "f6076b8e-a102-44d6-c28e-eaed2468b18c"
      },
      "execution_count": 16,
      "outputs": [
        {
          "output_type": "execute_result",
          "data": {
            "text/plain": [
              "<matplotlib.axes._subplots.AxesSubplot at 0x7f221c403550>"
            ]
          },
          "metadata": {},
          "execution_count": 16
        },
        {
          "output_type": "display_data",
          "data": {
            "text/plain": [
              "<Figure size 432x288 with 1 Axes>"
            ],
            "image/png": "[encoded data removed]"
          },
          "metadata": {
            "needs_background": "light"
          }
        }
      ]
    },
    {
      "cell_type": "markdown",
      "source": [
        "## Exploratory Analysis And Cleaning\n",
        "\n",
        "\n",
        "> columns we will analyse\n",
        "\n",
        "\n",
        "*   city\n",
        "*   Start_Time\n",
        "*   start_Lat, start_Lng\n",
        "*   Temperature(F)\n",
        "\n",
        "\n",
        "\n",
        "\n",
        "\n",
        "\n"
      ],
      "metadata": {
        "id": "c3M-dbRF6wbD"
      }
    },
    {
      "cell_type": "code",
      "source": [
        "df.columns"
      ],
      "metadata": {
        "id": "mPSg90D57VAq",
        "colab": {
          "base_uri": "https://localhost:8080/"
        },
        "outputId": "8b895b22-dde2-4b9e-be5d-59973f2aa93d"
      },
      "execution_count": 17,
      "outputs": [
        {
          "output_type": "execute_result",
          "data": {
            "text/plain": [
              "Index(['ID', 'Severity', 'Start_Time', 'End_Time', 'Start_Lat', 'Start_Lng',\n",
              "       'End_Lat', 'End_Lng', 'Distance(mi)', 'Description', 'Number', 'Street',\n",
              "       'Side', 'City', 'County', 'State', 'Zipcode', 'Country', 'Timezone',\n",
              "       'Airport_Code', 'Weather_Timestamp', 'Temperature(F)', 'Wind_Chill(F)',\n",
              "       'Humidity(%)', 'Pressure(in)', 'Visibility(mi)', 'Wind_Direction',\n",
              "       'Wind_Speed(mph)', 'Precipitation(in)', 'Weather_Condition', 'Amenity',\n",
              "       'Bump', 'Crossing', 'Give_Way', 'Junction', 'No_Exit', 'Railway',\n",
              "       'Roundabout', 'Station', 'Stop', 'Traffic_Calming', 'Traffic_Signal',\n",
              "       'Turning_Loop', 'Sunrise_Sunset', 'Civil_Twilight', 'Nautical_Twilight',\n",
              "       'Astronomical_Twilight'],\n",
              "      dtype='object')"
            ]
          },
          "metadata": {},
          "execution_count": 17
        }
      ]
    },
    {
      "cell_type": "markdown",
      "source": [
        "## Analyze with city"
      ],
      "metadata": {
        "id": "FRAJOUfSNsxg"
      }
    },
    {
      "cell_type": "code",
      "source": [
        "df['City'].unique()"
      ],
      "metadata": {
        "id": "SAE8FOJP7Vf8",
        "colab": {
          "base_uri": "https://localhost:8080/"
        },
        "outputId": "34bf4a3b-4f17-41e7-ebdc-53c536eb82b2"
      },
      "execution_count": 126,
      "outputs": [
        {
          "output_type": "execute_result",
          "data": {
            "text/plain": [
              "array(['Dublin', 'Dayton', 'Cincinnati', ..., 'Clarksdale', 'Bridgeboro',\n",
              "       'American Fork-Pleasant Grove'], dtype=object)"
            ]
          },
          "metadata": {},
          "execution_count": 126
        }
      ]
    },
    {
      "cell_type": "code",
      "source": [
        "len(df['City'].unique())"
      ],
      "metadata": {
        "id": "2Bp9Bpy57V6X",
        "colab": {
          "base_uri": "https://localhost:8080/"
        },
        "outputId": "69535a4b-a13c-42fd-df81-1d62d181063c"
      },
      "execution_count": 127,
      "outputs": [
        {
          "output_type": "execute_result",
          "data": {
            "text/plain": [
              "11682"
            ]
          },
          "metadata": {},
          "execution_count": 127
        }
      ]
    },
    {
      "cell_type": "code",
      "source": [
        "city=df.City.value_counts(ascending=False)\n",
        "city"
      ],
      "metadata": {
        "colab": {
          "base_uri": "https://localhost:8080/"
        },
        "id": "zvas8ip6-RVP",
        "outputId": "c6f677df-40d4-417f-e835-31bb1f7bca66"
      },
      "execution_count": 128,
      "outputs": [
        {
          "output_type": "execute_result",
          "data": {
            "text/plain": [
              "Miami                           106966\n",
              "Los Angeles                      68956\n",
              "Orlando                          54691\n",
              "Dallas                           41979\n",
              "Houston                          39448\n",
              "                                 ...  \n",
              "Ridgedale                            1\n",
              "Sekiu                                1\n",
              "Wooldridge                           1\n",
              "Bullock                              1\n",
              "American Fork-Pleasant Grove         1\n",
              "Name: City, Length: 11681, dtype: int64"
            ]
          },
          "metadata": {},
          "execution_count": 128
        }
      ]
    },
    {
      "cell_type": "code",
      "source": [
        "city[:20]   # top 20 accident prone cities"
      ],
      "metadata": {
        "colab": {
          "base_uri": "https://localhost:8080/"
        },
        "id": "aTdGNv_2CSjJ",
        "outputId": "1052665e-6d64-4e3d-d51b-c37c075c42fb"
      },
      "execution_count": 21,
      "outputs": [
        {
          "output_type": "execute_result",
          "data": {
            "text/plain": [
              "Miami           106966\n",
              "Los Angeles      68956\n",
              "Orlando          54691\n",
              "Dallas           41979\n",
              "Houston          39448\n",
              "Charlotte        33152\n",
              "Sacramento       32559\n",
              "San Diego        26627\n",
              "Raleigh          22840\n",
              "Minneapolis      22768\n",
              "Portland         20944\n",
              "Nashville        20267\n",
              "Austin           18301\n",
              "Baton Rouge      18182\n",
              "Phoenix          17143\n",
              "Saint Paul       16869\n",
              "New Orleans      16251\n",
              "Atlanta          15622\n",
              "Jacksonville     14967\n",
              "Richmond         14349\n",
              "Name: City, dtype: int64"
            ]
          },
          "metadata": {},
          "execution_count": 21
        }
      ]
    },
    {
      "cell_type": "code",
      "source": [
        "city[:20].plot(kind='barh')"
      ],
      "metadata": {
        "colab": {
          "base_uri": "https://localhost:8080/",
          "height": 282
        },
        "id": "kIr3BG8XGLcj",
        "outputId": "5071c0b0-0b42-4298-a429-97efce8175c3"
      },
      "execution_count": 22,
      "outputs": [
        {
          "output_type": "execute_result",
          "data": {
            "text/plain": [
              "<matplotlib.axes._subplots.AxesSubplot at 0x7f225bacbb10>"
            ]
          },
          "metadata": {},
          "execution_count": 22
        },
        {
          "output_type": "display_data",
          "data": {
            "text/plain": [
              "<Figure size 432x288 with 1 Axes>"
            ],
            "image/png": "[encoded data removed]"
          },
          "metadata": {
            "needs_background": "light"
          }
        }
      ]
    },
    {
      "cell_type": "code",
      "source": [
        "high_accident_city= city[city>=1000]\n",
        "high_accident_city"
      ],
      "metadata": {
        "colab": {
          "base_uri": "https://localhost:8080/"
        },
        "id": "FtrhWo0dBS8H",
        "outputId": "8fa87649-997c-4d87-9ea5-9e4ae5504549"
      },
      "execution_count": 23,
      "outputs": [
        {
          "output_type": "execute_result",
          "data": {
            "text/plain": [
              "Miami          106966\n",
              "Los Angeles     68956\n",
              "Orlando         54691\n",
              "Dallas          41979\n",
              "Houston         39448\n",
              "                ...  \n",
              "Tualatin         1001\n",
              "Utica            1001\n",
              "Los Banos        1001\n",
              "Mankato          1000\n",
              "Chiloquin        1000\n",
              "Name: City, Length: 496, dtype: int64"
            ]
          },
          "metadata": {},
          "execution_count": 23
        }
      ]
    },
    {
      "cell_type": "code",
      "source": [
        "len(high_accident_city)"
      ],
      "metadata": {
        "colab": {
          "base_uri": "https://localhost:8080/"
        },
        "id": "osjILPdFCXQF",
        "outputId": "2636bf2a-6fa1-4c39-897f-81467e99c907"
      },
      "execution_count": 24,
      "outputs": [
        {
          "output_type": "execute_result",
          "data": {
            "text/plain": [
              "496"
            ]
          },
          "metadata": {},
          "execution_count": 24
        }
      ]
    },
    {
      "cell_type": "code",
      "source": [
        "sns.histplot(high_accident_city,log_scale=True)"
      ],
      "metadata": {
        "colab": {
          "base_uri": "https://localhost:8080/",
          "height": 300
        },
        "id": "j26SjOmtEj26",
        "outputId": "6dbcbc31-1b35-4a4c-8e92-fb479e266ec0"
      },
      "execution_count": 25,
      "outputs": [
        {
          "output_type": "execute_result",
          "data": {
            "text/plain": [
              "<matplotlib.axes._subplots.AxesSubplot at 0x7f22525b6110>"
            ]
          },
          "metadata": {},
          "execution_count": 25
        },
        {
          "output_type": "display_data",
          "data": {
            "text/plain": [
              "<Figure size 432x288 with 1 Axes>"
            ],
            "image/png": "[encoded data removed]"
          },
          "metadata": {
            "needs_background": "light"
          }
        }
      ]
    },
    {
      "cell_type": "markdown",
      "source": [
        "## it is showing that very less amount of cities are highly accident prone cities"
      ],
      "metadata": {
        "id": "xkqylyLtFLBf"
      }
    },
    {
      "cell_type": "code",
      "source": [
        "len(city[city==10000])"
      ],
      "metadata": {
        "colab": {
          "base_uri": "https://localhost:8080/"
        },
        "id": "kdYu8g-lFxRG",
        "outputId": "c4ac8fe0-ab76-49ec-ad25-52b3394b6350"
      },
      "execution_count": 26,
      "outputs": [
        {
          "output_type": "execute_result",
          "data": {
            "text/plain": [
              "0"
            ]
          },
          "metadata": {},
          "execution_count": 26
        }
      ]
    },
    {
      "cell_type": "code",
      "source": [
        "low_accident_city=city[city<1000]\n",
        "low_accident_city"
      ],
      "metadata": {
        "colab": {
          "base_uri": "https://localhost:8080/"
        },
        "id": "nX4Do8R2B-vo",
        "outputId": "c935e2bc-f46f-48ec-ce38-7067ff72038e"
      },
      "execution_count": 27,
      "outputs": [
        {
          "output_type": "execute_result",
          "data": {
            "text/plain": [
              "Osseo                           997\n",
              "Madras                          997\n",
              "Manor                           992\n",
              "Portsmouth                      988\n",
              "Schenectady                     985\n",
              "                               ... \n",
              "Ridgedale                         1\n",
              "Sekiu                             1\n",
              "Wooldridge                        1\n",
              "Bullock                           1\n",
              "American Fork-Pleasant Grove      1\n",
              "Name: City, Length: 11185, dtype: int64"
            ]
          },
          "metadata": {},
          "execution_count": 27
        }
      ]
    },
    {
      "cell_type": "code",
      "source": [
        "len(low_accident_city)"
      ],
      "metadata": {
        "colab": {
          "base_uri": "https://localhost:8080/"
        },
        "id": "TVvISyKFChoX",
        "outputId": "a5601244-6db8-416b-d851-bdaa7c63ff4c"
      },
      "execution_count": 28,
      "outputs": [
        {
          "output_type": "execute_result",
          "data": {
            "text/plain": [
              "11185"
            ]
          },
          "metadata": {},
          "execution_count": 28
        }
      ]
    },
    {
      "cell_type": "code",
      "source": [
        "sns.histplot(low_accident_city, log_scale=True)"
      ],
      "metadata": {
        "colab": {
          "base_uri": "https://localhost:8080/",
          "height": 300
        },
        "id": "s-ohKu5UKrFx",
        "outputId": "7b354ff0-ea26-416c-f5bd-c7e562cad8d2"
      },
      "execution_count": 29,
      "outputs": [
        {
          "output_type": "execute_result",
          "data": {
            "text/plain": [
              "<matplotlib.axes._subplots.AxesSubplot at 0x7f2212cddb90>"
            ]
          },
          "metadata": {},
          "execution_count": 29
        },
        {
          "output_type": "display_data",
          "data": {
            "text/plain": [
              "<Figure size 432x288 with 1 Axes>"
            ],
            "image/png": "[encoded data removed]"
          },
          "metadata": {
            "needs_background": "light"
          }
        }
      ]
    },
    {
      "cell_type": "markdown",
      "source": [
        "#  low accident prone cities are more than high accident prone cities, and the amount of accidents are nearly same in the low accident prone areas."
      ],
      "metadata": {
        "id": "k55JJRKXLQ1c"
      }
    },
    {
      "cell_type": "markdown",
      "source": [
        "# Analyze with start time (which time accident happend)"
      ],
      "metadata": {
        "id": "7DlIWdLCN2NA"
      }
    },
    {
      "cell_type": "code",
      "source": [
        "df.Start_Time"
      ],
      "metadata": {
        "id": "PImIGxLR7fP3",
        "colab": {
          "base_uri": "https://localhost:8080/"
        },
        "outputId": "34711e69-3238-4a5d-9a40-705d8d195694"
      },
      "execution_count": 30,
      "outputs": [
        {
          "output_type": "execute_result",
          "data": {
            "text/plain": [
              "0          2016-02-08 00:37:08\n",
              "1          2016-02-08 05:56:20\n",
              "2          2016-02-08 06:15:39\n",
              "3          2016-02-08 06:51:45\n",
              "4          2016-02-08 07:53:43\n",
              "                  ...         \n",
              "2845337    2019-08-23 18:03:25\n",
              "2845338    2019-08-23 19:11:30\n",
              "2845339    2019-08-23 19:00:21\n",
              "2845340    2019-08-23 19:00:21\n",
              "2845341    2019-08-23 18:52:06\n",
              "Name: Start_Time, Length: 2845342, dtype: object"
            ]
          },
          "metadata": {},
          "execution_count": 30
        }
      ]
    },
    {
      "cell_type": "code",
      "source": [
        "df.Start_Time[0]"
      ],
      "metadata": {
        "id": "OheSJw897fzV",
        "colab": {
          "base_uri": "https://localhost:8080/",
          "height": 35
        },
        "outputId": "4582cfd2-4feb-4038-f7ae-ed14711063db"
      },
      "execution_count": 31,
      "outputs": [
        {
          "output_type": "execute_result",
          "data": {
            "text/plain": [
              "'2016-02-08 00:37:08'"
            ],
            "application/vnd.google.colaboratory.intrinsic+json": {
              "type": "string"
            }
          },
          "metadata": {},
          "execution_count": 31
        }
      ]
    },
    {
      "cell_type": "markdown",
      "source": [
        "this is in string format, i am going to convert it into date"
      ],
      "metadata": {
        "id": "7-W8fnLY5HAC"
      }
    },
    {
      "cell_type": "code",
      "source": [
        "df.Start_Time=pd.to_datetime(df.Start_Time)\n",
        "df.Start_Time"
      ],
      "metadata": {
        "colab": {
          "base_uri": "https://localhost:8080/"
        },
        "id": "qBG0HYqc5NoI",
        "outputId": "9f8d4a91-4997-4a7a-ed31-f463af20d397"
      },
      "execution_count": 32,
      "outputs": [
        {
          "output_type": "execute_result",
          "data": {
            "text/plain": [
              "0         2016-02-08 00:37:08\n",
              "1         2016-02-08 05:56:20\n",
              "2         2016-02-08 06:15:39\n",
              "3         2016-02-08 06:51:45\n",
              "4         2016-02-08 07:53:43\n",
              "                  ...        \n",
              "2845337   2019-08-23 18:03:25\n",
              "2845338   2019-08-23 19:11:30\n",
              "2845339   2019-08-23 19:00:21\n",
              "2845340   2019-08-23 19:00:21\n",
              "2845341   2019-08-23 18:52:06\n",
              "Name: Start_Time, Length: 2845342, dtype: datetime64[ns]"
            ]
          },
          "metadata": {},
          "execution_count": 32
        }
      ]
    },
    {
      "cell_type": "code",
      "source": [
        "df.Start_Time[0]"
      ],
      "metadata": {
        "colab": {
          "base_uri": "https://localhost:8080/"
        },
        "id": "-YsBfe3F6ROv",
        "outputId": "206a0b94-9526-43ca-8b20-261eb40e269e"
      },
      "execution_count": 33,
      "outputs": [
        {
          "output_type": "execute_result",
          "data": {
            "text/plain": [
              "Timestamp('2016-02-08 00:37:08')"
            ]
          },
          "metadata": {},
          "execution_count": 33
        }
      ]
    },
    {
      "cell_type": "markdown",
      "source": [
        "extract hour from datetime"
      ],
      "metadata": {
        "id": "6L928teN9B5I"
      }
    },
    {
      "cell_type": "code",
      "source": [
        "total_time=df.Start_Time.dt.hour\n",
        "total_time"
      ],
      "metadata": {
        "colab": {
          "base_uri": "https://localhost:8080/"
        },
        "id": "cfoeC8rN88GO",
        "outputId": "b5a01bc1-ce5a-4f46-fd5d-4550e7831c43"
      },
      "execution_count": 34,
      "outputs": [
        {
          "output_type": "execute_result",
          "data": {
            "text/plain": [
              "0           0\n",
              "1           5\n",
              "2           6\n",
              "3           6\n",
              "4           7\n",
              "           ..\n",
              "2845337    18\n",
              "2845338    19\n",
              "2845339    19\n",
              "2845340    19\n",
              "2845341    18\n",
              "Name: Start_Time, Length: 2845342, dtype: int64"
            ]
          },
          "metadata": {},
          "execution_count": 34
        }
      ]
    },
    {
      "cell_type": "code",
      "source": [
        "sns.histplot(total_time, bins=24)"
      ],
      "metadata": {
        "colab": {
          "base_uri": "https://localhost:8080/",
          "height": 297
        },
        "id": "bMLTv5n3-LCf",
        "outputId": "c8778d7d-9c0e-4189-a889-a438c431fe61"
      },
      "execution_count": 35,
      "outputs": [
        {
          "output_type": "execute_result",
          "data": {
            "text/plain": [
              "<matplotlib.axes._subplots.AxesSubplot at 0x7f222d4b2890>"
            ]
          },
          "metadata": {},
          "execution_count": 35
        },
        {
          "output_type": "display_data",
          "data": {
            "text/plain": [
              "<Figure size 432x288 with 1 Axes>"
            ],
            "image/png": "[encoded data removed]"
          },
          "metadata": {
            "needs_background": "light"
          }
        }
      ]
    },
    {
      "cell_type": "code",
      "source": [
        "morning_time=total_time[total_time<=12]\n",
        "morning_time"
      ],
      "metadata": {
        "colab": {
          "base_uri": "https://localhost:8080/"
        },
        "id": "x167Cp2L88C4",
        "outputId": "a3d68407-4d21-4433-d90d-f68deba86b6c"
      },
      "execution_count": 36,
      "outputs": [
        {
          "output_type": "execute_result",
          "data": {
            "text/plain": [
              "0           0\n",
              "1           5\n",
              "2           6\n",
              "3           6\n",
              "4           7\n",
              "           ..\n",
              "2845306     8\n",
              "2845307    10\n",
              "2845309    12\n",
              "2845310    12\n",
              "2845311    12\n",
              "Name: Start_Time, Length: 1211298, dtype: int64"
            ]
          },
          "metadata": {},
          "execution_count": 36
        }
      ]
    },
    {
      "cell_type": "code",
      "source": [
        "morning_time.value_counts(ascending=False)"
      ],
      "metadata": {
        "colab": {
          "base_uri": "https://localhost:8080/"
        },
        "id": "oGgfvIzK9zxm",
        "outputId": "f9b64c0c-cff3-4541-e71c-aae11083ae93"
      },
      "execution_count": 37,
      "outputs": [
        {
          "output_type": "execute_result",
          "data": {
            "text/plain": [
              "12    143715\n",
              "7     135191\n",
              "8     130879\n",
              "11    113271\n",
              "6     111160\n",
              "9     108779\n",
              "10    103926\n",
              "5      80303\n",
              "0      68800\n",
              "1      59370\n",
              "2      55443\n",
              "4      51805\n",
              "3      48656\n",
              "Name: Start_Time, dtype: int64"
            ]
          },
          "metadata": {},
          "execution_count": 37
        }
      ]
    },
    {
      "cell_type": "code",
      "source": [
        "sns.histplot(morning_time, bins=12)"
      ],
      "metadata": {
        "colab": {
          "base_uri": "https://localhost:8080/",
          "height": 297
        },
        "id": "CviAuIjZ9o97",
        "outputId": "7dc503ec-733e-4878-8172-472c430e6923"
      },
      "execution_count": 38,
      "outputs": [
        {
          "output_type": "execute_result",
          "data": {
            "text/plain": [
              "<matplotlib.axes._subplots.AxesSubplot at 0x7f2212b61310>"
            ]
          },
          "metadata": {},
          "execution_count": 38
        },
        {
          "output_type": "display_data",
          "data": {
            "text/plain": [
              "<Figure size 432x288 with 1 Axes>"
            ],
            "image/png": "[encoded data removed]"
          },
          "metadata": {
            "needs_background": "light"
          }
        }
      ]
    },
    {
      "cell_type": "markdown",
      "source": [
        "From 12 AM to 5 AM accidents are very less, most of the accidents occours at 12 PM."
      ],
      "metadata": {
        "id": "Bju6YddAErpu"
      }
    },
    {
      "cell_type": "code",
      "source": [
        "evening=total_time[total_time>12]\n",
        "evening"
      ],
      "metadata": {
        "colab": {
          "base_uri": "https://localhost:8080/"
        },
        "id": "XtrI9vx3AE1Q",
        "outputId": "d1d31f08-4876-40b0-87ed-b28a7a8c3d83"
      },
      "execution_count": 39,
      "outputs": [
        {
          "output_type": "execute_result",
          "data": {
            "text/plain": [
              "8          14\n",
              "9          15\n",
              "10         15\n",
              "11         16\n",
              "12         17\n",
              "           ..\n",
              "2845337    18\n",
              "2845338    19\n",
              "2845339    19\n",
              "2845340    19\n",
              "2845341    18\n",
              "Name: Start_Time, Length: 1634044, dtype: int64"
            ]
          },
          "metadata": {},
          "execution_count": 39
        }
      ]
    },
    {
      "cell_type": "code",
      "source": [
        "sns.histplot(evening, bins=12)"
      ],
      "metadata": {
        "colab": {
          "base_uri": "https://localhost:8080/",
          "height": 297
        },
        "id": "P8w9x9eoAWsv",
        "outputId": "09316d02-868c-4802-a737-0f7b00d778de"
      },
      "execution_count": 40,
      "outputs": [
        {
          "output_type": "execute_result",
          "data": {
            "text/plain": [
              "<matplotlib.axes._subplots.AxesSubplot at 0x7f223d251690>"
            ]
          },
          "metadata": {},
          "execution_count": 40
        },
        {
          "output_type": "display_data",
          "data": {
            "text/plain": [
              "<Figure size 432x288 with 1 Axes>"
            ],
            "image/png": "[encoded data removed]"
          },
          "metadata": {
            "needs_background": "light"
          }
        }
      ]
    },
    {
      "cell_type": "markdown",
      "source": [
        "\n",
        "most accidents happens from 12pm to 5pm "
      ],
      "metadata": {
        "id": "ynX3XqJqFdCo"
      }
    },
    {
      "cell_type": "markdown",
      "source": [
        "### serach for day"
      ],
      "metadata": {
        "id": "wC9SefnVG0e0"
      }
    },
    {
      "cell_type": "code",
      "source": [
        "df.Start_Time"
      ],
      "metadata": {
        "colab": {
          "base_uri": "https://localhost:8080/"
        },
        "id": "v9QqYXc9HFOs",
        "outputId": "531c07ad-0556-4b4e-eb68-6a124473cdf6"
      },
      "execution_count": 41,
      "outputs": [
        {
          "output_type": "execute_result",
          "data": {
            "text/plain": [
              "0         2016-02-08 00:37:08\n",
              "1         2016-02-08 05:56:20\n",
              "2         2016-02-08 06:15:39\n",
              "3         2016-02-08 06:51:45\n",
              "4         2016-02-08 07:53:43\n",
              "                  ...        \n",
              "2845337   2019-08-23 18:03:25\n",
              "2845338   2019-08-23 19:11:30\n",
              "2845339   2019-08-23 19:00:21\n",
              "2845340   2019-08-23 19:00:21\n",
              "2845341   2019-08-23 18:52:06\n",
              "Name: Start_Time, Length: 2845342, dtype: datetime64[ns]"
            ]
          },
          "metadata": {},
          "execution_count": 41
        }
      ]
    },
    {
      "cell_type": "code",
      "source": [
        "date=df.Start_Time.dt.day\n",
        "date"
      ],
      "metadata": {
        "colab": {
          "base_uri": "https://localhost:8080/"
        },
        "id": "ujf6IBr6G3-s",
        "outputId": "275e8b3d-7992-4c4c-fc98-4a077438814f"
      },
      "execution_count": 42,
      "outputs": [
        {
          "output_type": "execute_result",
          "data": {
            "text/plain": [
              "0           8\n",
              "1           8\n",
              "2           8\n",
              "3           8\n",
              "4           8\n",
              "           ..\n",
              "2845337    23\n",
              "2845338    23\n",
              "2845339    23\n",
              "2845340    23\n",
              "2845341    23\n",
              "Name: Start_Time, Length: 2845342, dtype: int64"
            ]
          },
          "metadata": {},
          "execution_count": 42
        }
      ]
    },
    {
      "cell_type": "code",
      "source": [
        "sns.histplot(df.Start_Time.dt.day_name(), bins=7)"
      ],
      "metadata": {
        "colab": {
          "base_uri": "https://localhost:8080/",
          "height": 297
        },
        "id": "cFq4FVgfH4RG",
        "outputId": "c500b0fb-e79b-4a46-c51b-21b2a5ec5760"
      },
      "execution_count": 43,
      "outputs": [
        {
          "output_type": "execute_result",
          "data": {
            "text/plain": [
              "<matplotlib.axes._subplots.AxesSubplot at 0x7f22129c62d0>"
            ]
          },
          "metadata": {},
          "execution_count": 43
        },
        {
          "output_type": "display_data",
          "data": {
            "text/plain": [
              "<Figure size 432x288 with 1 Axes>"
            ],
            "image/png": "[encoded data removed]"
          },
          "metadata": {
            "needs_background": "light"
          }
        }
      ]
    },
    {
      "cell_type": "markdown",
      "source": [
        "it seems that on weekends number of accidents are less than weekdays.It is clear that on weekdays more people get out for their works."
      ],
      "metadata": {
        "id": "CuV3-4-3LJ72"
      }
    },
    {
      "cell_type": "markdown",
      "source": [
        "## now question is --\n",
        "is the distribution of accidents by hour is same on weekdays and weekends?"
      ],
      "metadata": {
        "id": "ssO5ERUaLuR0"
      }
    },
    {
      "cell_type": "code",
      "source": [
        "saturday=df.Start_Time[df.Start_Time.dt.day_name()=='Saturday']\n",
        "saturday"
      ],
      "metadata": {
        "colab": {
          "base_uri": "https://localhost:8080/"
        },
        "id": "bv4DvpDlO9fS",
        "outputId": "ab687970-9807-46b8-ca85-f8489d75efda"
      },
      "execution_count": 44,
      "outputs": [
        {
          "output_type": "execute_result",
          "data": {
            "text/plain": [
              "147       2016-02-13 04:56:20\n",
              "148       2016-02-13 07:14:41\n",
              "149       2016-02-13 09:13:49\n",
              "150       2016-02-13 16:00:59\n",
              "151       2016-02-13 18:06:41\n",
              "                  ...        \n",
              "2842712   2019-08-17 23:55:26\n",
              "2842713   2019-08-17 23:41:57\n",
              "2842714   2019-08-17 23:45:12\n",
              "2842715   2019-08-17 23:54:23\n",
              "2843169   2019-08-17 03:36:35\n",
              "Name: Start_Time, Length: 311691, dtype: datetime64[ns]"
            ]
          },
          "metadata": {},
          "execution_count": 44
        }
      ]
    },
    {
      "cell_type": "code",
      "source": [
        "sns.histplot(saturday.dt.hour, bins=24)"
      ],
      "metadata": {
        "colab": {
          "base_uri": "https://localhost:8080/",
          "height": 297
        },
        "id": "wdgaiLovPY9t",
        "outputId": "c18a8b83-29ff-48cc-bfb8-055e2acba0f0"
      },
      "execution_count": 45,
      "outputs": [
        {
          "output_type": "execute_result",
          "data": {
            "text/plain": [
              "<matplotlib.axes._subplots.AxesSubplot at 0x7f2212aa08d0>"
            ]
          },
          "metadata": {},
          "execution_count": 45
        },
        {
          "output_type": "display_data",
          "data": {
            "text/plain": [
              "<Figure size 432x288 with 1 Axes>"
            ],
            "image/png": "[encoded data removed]"
          },
          "metadata": {
            "needs_background": "light"
          }
        }
      ]
    },
    {
      "cell_type": "code",
      "source": [
        "sunday=df.Start_Time[df.Start_Time.dt.day_name()==\"Sunday\"]\n",
        "sunday"
      ],
      "metadata": {
        "colab": {
          "base_uri": "https://localhost:8080/"
        },
        "id": "H46j9307Li74",
        "outputId": "a58d955a-e7d0-4de3-b98f-c15fe36e9884"
      },
      "execution_count": 46,
      "outputs": [
        {
          "output_type": "execute_result",
          "data": {
            "text/plain": [
              "154       2016-02-14 03:58:33\n",
              "155       2016-02-14 05:26:58\n",
              "156       2016-02-14 16:30:40\n",
              "157       2016-02-14 16:38:40\n",
              "158       2016-02-14 17:40:17\n",
              "                  ...        \n",
              "2843129   2019-08-18 22:48:14\n",
              "2843130   2019-08-18 23:24:10\n",
              "2843243   2019-08-18 22:56:56\n",
              "2843244   2019-08-18 22:56:56\n",
              "2843282   2019-08-18 22:54:41\n",
              "Name: Start_Time, Length: 259274, dtype: datetime64[ns]"
            ]
          },
          "metadata": {},
          "execution_count": 46
        }
      ]
    },
    {
      "cell_type": "code",
      "source": [
        "sns.histplot(sunday.dt.hour, bins=24)"
      ],
      "metadata": {
        "colab": {
          "base_uri": "https://localhost:8080/",
          "height": 297
        },
        "id": "xjGmZ5TeNI_q",
        "outputId": "8432fcfd-1e81-4768-9baf-1278bc84e063"
      },
      "execution_count": 47,
      "outputs": [
        {
          "output_type": "execute_result",
          "data": {
            "text/plain": [
              "<matplotlib.axes._subplots.AxesSubplot at 0x7f22079ebf50>"
            ]
          },
          "metadata": {},
          "execution_count": 47
        },
        {
          "output_type": "display_data",
          "data": {
            "text/plain": [
              "<Figure size 432x288 with 1 Axes>"
            ],
            "image/png": "[encoded data removed]"
          },
          "metadata": {
            "needs_background": "light"
          }
        }
      ]
    },
    {
      "cell_type": "markdown",
      "source": [
        "The trends of saturday and sunday looks like same, most of the accidents happening during evening time. "
      ],
      "metadata": {
        "id": "jqTAAXm3Px3J"
      }
    },
    {
      "cell_type": "code",
      "source": [
        "monday=df.Start_Time[df.Start_Time.dt.day_name()==\"Monday\"]\n",
        "monday"
      ],
      "metadata": {
        "colab": {
          "base_uri": "https://localhost:8080/"
        },
        "id": "Or4PWMrCONSU",
        "outputId": "9d138f83-4b7c-443b-d721-251ac23d128e"
      },
      "execution_count": 48,
      "outputs": [
        {
          "output_type": "execute_result",
          "data": {
            "text/plain": [
              "0         2016-02-08 00:37:08\n",
              "1         2016-02-08 05:56:20\n",
              "2         2016-02-08 06:15:39\n",
              "3         2016-02-08 06:51:45\n",
              "4         2016-02-08 07:53:43\n",
              "                  ...        \n",
              "2843321   2019-08-19 20:43:02\n",
              "2843322   2019-08-19 20:41:30\n",
              "2843675   2019-08-19 22:18:31\n",
              "2843676   2019-08-19 22:21:28\n",
              "2843677   2019-08-19 22:31:15\n",
              "Name: Start_Time, Length: 419821, dtype: datetime64[ns]"
            ]
          },
          "metadata": {},
          "execution_count": 48
        }
      ]
    },
    {
      "cell_type": "code",
      "source": [
        "sns.histplot(monday.dt.hour, bins=24)"
      ],
      "metadata": {
        "colab": {
          "base_uri": "https://localhost:8080/",
          "height": 298
        },
        "id": "h0blnX5KOjDZ",
        "outputId": "d8d32a73-b102-4128-97b3-ab4d3c6f79dc"
      },
      "execution_count": 49,
      "outputs": [
        {
          "output_type": "execute_result",
          "data": {
            "text/plain": [
              "<matplotlib.axes._subplots.AxesSubplot at 0x7f2212975050>"
            ]
          },
          "metadata": {},
          "execution_count": 49
        },
        {
          "output_type": "display_data",
          "data": {
            "text/plain": [
              "<Figure size 432x288 with 1 Axes>"
            ],
            "image/png": "[encoded data removed]"
          },
          "metadata": {
            "needs_background": "light"
          }
        }
      ]
    },
    {
      "cell_type": "markdown",
      "source": [
        "On monday the incidents of accidents are very high during morning and evening time, due to people are going for work in the morning and returning home in the evening "
      ],
      "metadata": {
        "id": "yHMPcIHFQPf4"
      }
    },
    {
      "cell_type": "markdown",
      "source": [
        "## Search for months"
      ],
      "metadata": {
        "id": "nvTHLXnUVJWK"
      }
    },
    {
      "cell_type": "code",
      "source": [
        "df.Start_Time.dt.month"
      ],
      "metadata": {
        "id": "vJh6TDFFQO2Y",
        "colab": {
          "base_uri": "https://localhost:8080/"
        },
        "outputId": "951c5c37-3aa1-4530-8801-18a59162991c"
      },
      "execution_count": 55,
      "outputs": [
        {
          "output_type": "execute_result",
          "data": {
            "text/plain": [
              "0          2\n",
              "1          2\n",
              "2          2\n",
              "3          2\n",
              "4          2\n",
              "          ..\n",
              "2845337    8\n",
              "2845338    8\n",
              "2845339    8\n",
              "2845340    8\n",
              "2845341    8\n",
              "Name: Start_Time, Length: 2845342, dtype: int64"
            ]
          },
          "metadata": {},
          "execution_count": 55
        }
      ]
    },
    {
      "cell_type": "code",
      "source": [
        "sns.histplot(df.Start_Time.dt.month, bins=12)"
      ],
      "metadata": {
        "colab": {
          "base_uri": "https://localhost:8080/",
          "height": 297
        },
        "id": "7In_Or5rV1Ig",
        "outputId": "eebaf78c-50b6-4543-ef42-0d3d7a07e1d1"
      },
      "execution_count": 57,
      "outputs": [
        {
          "output_type": "execute_result",
          "data": {
            "text/plain": [
              "<matplotlib.axes._subplots.AxesSubplot at 0x7f220ffafe90>"
            ]
          },
          "metadata": {},
          "execution_count": 57
        },
        {
          "output_type": "display_data",
          "data": {
            "text/plain": [
              "<Figure size 432x288 with 1 Axes>"
            ],
            "image/png": "[encoded data removed]"
          },
          "metadata": {
            "needs_background": "light"
          }
        }
      ]
    },
    {
      "cell_type": "markdown",
      "source": [
        "From this graph it is clear that more accidents happens at the end of the year, that is winter season, (Due to lots of fog, ice and snow on roads)"
      ],
      "metadata": {
        "id": "At75AKWecUx5"
      }
    },
    {
      "cell_type": "markdown",
      "source": [
        "## analyze with year"
      ],
      "metadata": {
        "id": "vhtaekEbdrZM"
      }
    },
    {
      "cell_type": "code",
      "source": [
        "df.Start_Time.dt.year"
      ],
      "metadata": {
        "colab": {
          "base_uri": "https://localhost:8080/"
        },
        "id": "1lJMJVTpcUWp",
        "outputId": "d8f2b64a-023f-47b8-b567-4d70ed56b9c6"
      },
      "execution_count": 58,
      "outputs": [
        {
          "output_type": "execute_result",
          "data": {
            "text/plain": [
              "0          2016\n",
              "1          2016\n",
              "2          2016\n",
              "3          2016\n",
              "4          2016\n",
              "           ... \n",
              "2845337    2019\n",
              "2845338    2019\n",
              "2845339    2019\n",
              "2845340    2019\n",
              "2845341    2019\n",
              "Name: Start_Time, Length: 2845342, dtype: int64"
            ]
          },
          "metadata": {},
          "execution_count": 58
        }
      ]
    },
    {
      "cell_type": "code",
      "source": [
        "sns.histplot(df.Start_Time.dt.year, bins=6)"
      ],
      "metadata": {
        "colab": {
          "base_uri": "https://localhost:8080/",
          "height": 308
        },
        "id": "9vy7RORid6w1",
        "outputId": "a3a8e0fe-078a-473a-c865-9acdbb16ef41"
      },
      "execution_count": 61,
      "outputs": [
        {
          "output_type": "execute_result",
          "data": {
            "text/plain": [
              "<matplotlib.axes._subplots.AxesSubplot at 0x7f220f9780d0>"
            ]
          },
          "metadata": {},
          "execution_count": 61
        },
        {
          "output_type": "display_data",
          "data": {
            "text/plain": [
              "<Figure size 432x288 with 1 Axes>"
            ],
            "image/png": "[encoded data removed]"
          },
          "metadata": {
            "needs_background": "light"
          }
        }
      ]
    },
    {
      "cell_type": "markdown",
      "source": [
        "It is showing that year over year accidents are increasing. probably it is happening due to increase of population,distracted driving,largely due to cellphone usage; increased sales of trucks and SUVs; and higher performance of vehicles, among other factors. \n",
        " "
      ],
      "metadata": {
        "id": "ulcp1j2mgJBm"
      }
    },
    {
      "cell_type": "markdown",
      "source": [
        "## Analyze 'Start_Lat', 'Start_Lng'\n",
        "\n"
      ],
      "metadata": {
        "id": "TUzQov-ph8E8"
      }
    },
    {
      "cell_type": "code",
      "source": [
        "df.Start_Lat"
      ],
      "metadata": {
        "colab": {
          "base_uri": "https://localhost:8080/"
        },
        "id": "0tsK5b3geSNq",
        "outputId": "68b54d71-436f-414e-d05d-e84f586937e1"
      },
      "execution_count": 62,
      "outputs": [
        {
          "output_type": "execute_result",
          "data": {
            "text/plain": [
              "0          40.108910\n",
              "1          39.865420\n",
              "2          39.102660\n",
              "3          41.062130\n",
              "4          39.172393\n",
              "             ...    \n",
              "2845337    34.002480\n",
              "2845338    32.766960\n",
              "2845339    33.775450\n",
              "2845340    33.992460\n",
              "2845341    34.133930\n",
              "Name: Start_Lat, Length: 2845342, dtype: float64"
            ]
          },
          "metadata": {},
          "execution_count": 62
        }
      ]
    },
    {
      "cell_type": "code",
      "source": [
        "df.Start_Lng"
      ],
      "metadata": {
        "colab": {
          "base_uri": "https://localhost:8080/"
        },
        "id": "YuBbSzDplBKe",
        "outputId": "8f5647f4-de0d-4044-9cbc-3b77e3d9fe6b"
      },
      "execution_count": 63,
      "outputs": [
        {
          "output_type": "execute_result",
          "data": {
            "text/plain": [
              "0          -83.092860\n",
              "1          -84.062800\n",
              "2          -84.524680\n",
              "3          -81.537840\n",
              "4          -84.492792\n",
              "              ...    \n",
              "2845337   -117.379360\n",
              "2845338   -117.148060\n",
              "2845339   -117.847790\n",
              "2845340   -118.403020\n",
              "2845341   -117.230920\n",
              "Name: Start_Lng, Length: 2845342, dtype: float64"
            ]
          },
          "metadata": {},
          "execution_count": 63
        }
      ]
    },
    {
      "cell_type": "code",
      "source": [
        "sns.scatterplot(x=df.Start_Lng, y=df.Start_Lat)"
      ],
      "metadata": {
        "colab": {
          "base_uri": "https://localhost:8080/",
          "height": 299
        },
        "id": "iQTp624DlaoW",
        "outputId": "25b9a9c6-aa49-4a86-d84f-1635a9a3ebf1"
      },
      "execution_count": 64,
      "outputs": [
        {
          "output_type": "execute_result",
          "data": {
            "text/plain": [
              "<matplotlib.axes._subplots.AxesSubplot at 0x7f220a0ecc10>"
            ]
          },
          "metadata": {},
          "execution_count": 64
        },
        {
          "output_type": "display_data",
          "data": {
            "text/plain": [
              "<Figure size 432x288 with 1 Axes>"
            ],
            "image/png": "[encoded data removed]"
          },
          "metadata": {
            "needs_background": "light"
          }
        }
      ]
    },
    {
      "cell_type": "markdown",
      "source": [
        "now try to put data into a map"
      ],
      "metadata": {
        "id": "Blvm2if_oB3c"
      }
    },
    {
      "cell_type": "code",
      "source": [
        "import folium\n",
        "from folium import plugins\n",
        "from folium.plugins import HeatMap"
      ],
      "metadata": {
        "id": "olsDNLWRoGck"
      },
      "execution_count": 81,
      "outputs": []
    },
    {
      "cell_type": "code",
      "source": [
        "sample_data=df.sample(int(.001*len(df)))  # taking .1 percent data as sample data\n"
      ],
      "metadata": {
        "id": "saDcTb8z9aKE"
      },
      "execution_count": 94,
      "outputs": []
    },
    {
      "cell_type": "code",
      "source": [
        "var=zip(list(sample_data.Start_Lat),list(sample_data.Start_Lng))"
      ],
      "metadata": {
        "id": "CtQyBV04xdWs"
      },
      "execution_count": 95,
      "outputs": []
    },
    {
      "cell_type": "code",
      "source": [
        "map=folium.Map()\n",
        "HeatMap(var).add_to(map)\n",
        "map"
      ],
      "metadata": {
        "colab": {
          "base_uri": "https://localhost:8080/",
          "height": 602
        },
        "id": "Vita2T5boTxR",
        "outputId": "cbb386d5-b805-42a8-e5d9-ccd696c9d0ff"
      },
      "execution_count": 96,
      "outputs": [
        {
          "output_type": "execute_result",
          "data": {
            "text/plain": [
              "<folium.folium.Map at 0x7f21ebf67f10>"
            ],
            "text/html": [
              "<div style=\"width:100%;\"><div style=\"position:relative;width:100%;height:0;padding-bottom:60%;\"><span style=\"color:#565656\">Make this Notebook Trusted to load map: File -> Trust Notebook</span><iframe srcdoc=\"&lt;!DOCTYPE html&gt;\n",
              "&lt;head&gt;    \n",
              "    &lt;meta http-equiv=&quot;content-type&quot; content=&quot;text/html; charset=UTF-8&quot; /&gt;\n",
              "    \n",
              "        &lt;script&gt;\n",
              "            L_NO_TOUCH = false;\n",
              "            L_DISABLE_3D = false;\n",
              "        &lt;/script&gt;\n",
              "    \n",
              "    &lt;style&gt;html, body {width: 100%;height: 100%;margin: 0;padding: 0;}&lt;/style&gt;\n",
              "    &lt;style&gt;#map {position:absolute;top:0;bottom:0;right:0;left:0;}&lt;/style&gt;\n",
              "    &lt;script src=&quot;https://cdn.jsdelivr.net/npm/leaflet@1.6.0/dist/leaflet.js&quot;&gt;&lt;/script&gt;\n",
              "    &lt;script src=&quot;https://code.jquery.com/jquery-1.12.4.min.js&quot;&gt;&lt;/script&gt;\n",
              "    &lt;script src=&quot;https://maxcdn.bootstrapcdn.com/bootstrap/3.2.0/js/bootstrap.min.js&quot;&gt;&lt;/script&gt;\n",
              "    &lt;script src=&quot;https://cdnjs.cloudflare.com/ajax/libs/Leaflet.awesome-markers/2.0.2/leaflet.awesome-markers.js&quot;&gt;&lt;/script&gt;\n",
              "    &lt;link rel=&quot;stylesheet&quot; href=&quot;https://cdn.jsdelivr.net/npm/leaflet@1.6.0/dist/leaflet.css&quot;/&gt;\n",
              "    &lt;link rel=&quot;stylesheet&quot; href=&quot;https://maxcdn.bootstrapcdn.com/bootstrap/3.2.0/css/bootstrap.min.css&quot;/&gt;\n",
              "    &lt;link rel=&quot;stylesheet&quot; href=&quot;https://maxcdn.bootstrapcdn.com/bootstrap/3.2.0/css/bootstrap-theme.min.css&quot;/&gt;\n",
              "    &lt;link rel=&quot;stylesheet&quot; href=&quot;https://maxcdn.bootstrapcdn.com/font-awesome/4.6.3/css/font-awesome.min.css&quot;/&gt;\n",
              "    &lt;link rel=&quot;stylesheet&quot; href=&quot;https://cdnjs.cloudflare.com/ajax/libs/Leaflet.awesome-markers/2.0.2/leaflet.awesome-markers.css&quot;/&gt;\n",
              "    &lt;link rel=&quot;stylesheet&quot; href=&quot;https://cdn.jsdelivr.net/gh/python-visualization/folium/folium/templates/leaflet.awesome.rotate.min.css&quot;/&gt;\n",
              "    \n",
              "            &lt;meta name=&quot;viewport&quot; content=&quot;width=device-width,\n",
              "                initial-scale=1.0, maximum-scale=1.0, user-scalable=no&quot; /&gt;\n",
              "            &lt;style&gt;\n",
              "                #map_557914ff05cb08515af1eb5669d511cd {\n",
              "                    position: relative;\n",
              "                    width: 100.0%;\n",
              "                    height: 100.0%;\n",
              "                    left: 0.0%;\n",
              "                    top: 0.0%;\n",
              "                }\n",
              "            &lt;/style&gt;\n",
              "        \n",
              "    &lt;script src=&quot;https://cdn.jsdelivr.net/gh/python-visualization/folium@master/folium/templates/leaflet_heat.min.js&quot;&gt;&lt;/script&gt;\n",
              "&lt;/head&gt;\n",
              "&lt;body&gt;    \n",
              "    \n",
              "            &lt;div class=&quot;folium-map&quot; id=&quot;map_557914ff05cb08515af1eb5669d511cd&quot; &gt;&lt;/div&gt;\n",
              "        \n",
              "&lt;/body&gt;\n",
              "&lt;script&gt;    \n",
              "    \n",
              "            var map_557914ff05cb08515af1eb5669d511cd = L.map(\n",
              "                &quot;map_557914ff05cb08515af1eb5669d511cd&quot;,\n",
              "                {\n",
              "                    center: [0, 0],\n",
              "                    crs: L.CRS.EPSG3857,\n",
              "                    zoom: 1,\n",
              "                    zoomControl: true,\n",
              "                    preferCanvas: false,\n",
              "                }\n",
              "            );\n",
              "\n",
              "            \n",
              "\n",
              "        \n",
              "    \n",
              "            var tile_layer_83be493c85defa857130d249d16bd0b5 = L.tileLayer(\n",
              "                &quot;https://{s}.tile.openstreetmap.org/{z}/{x}/{y}.png&quot;,\n",
              "                {&quot;attribution&quot;: &quot;Data by \\u0026copy; \\u003ca href=\\&quot;http://openstreetmap.org\\&quot;\\u003eOpenStreetMap\\u003c/a\\u003e, under \\u003ca href=\\&quot;http://www.openstreetmap.org/copyright\\&quot;\\u003eODbL\\u003c/a\\u003e.&quot;, &quot;detectRetina&quot;: false, &quot;maxNativeZoom&quot;: 18, &quot;maxZoom&quot;: 18, &quot;minZoom&quot;: 0, &quot;noWrap&quot;: false, &quot;opacity&quot;: 1, &quot;subdomains&quot;: &quot;abc&quot;, &quot;tms&quot;: false}\n",
              "            ).addTo(map_557914ff05cb08515af1eb5669d511cd);\n",
              "        \n",
              "    \n",
              "            var heat_map_32f077f9c46a9c5ac57f681157224470 = L.heatLayer(\n",
              "                [[40.069679, -75.280088], [34.0723, -118.05526], [27.404698, -80.398753], [33.865990999999994, -117.997212], [34.134564000000005, -117.651447], [45.829608, -95.140052], [42.933194, -78.90249200000002], [29.47137, -94.97898], [37.322841, -121.896561], [43.206338, -83.754588], [34.0652, -118.00005], [38.965991, -94.723629], [33.945334, -118.368279], [36.946897, -76.26639899999998], [33.976037, -117.37183799999998], [41.14871, -81.63344000000002], [32.99691, -96.862381], [33.830369, -118.142455], [27.495134000000004, -82.636573], [33.868886, -118.284784], [30.481677, -91.16724], [43.63381500000001, -116.35703], [32.575246, -96.822885], [35.84277, -78.681566], [38.234939, -120.334849], [30.428478, -91.171347], [40.254432, -75.34898299999998], [29.702466, -82.277523], [42.306064, -87.92093299999998], [39.65258, -121.58895], [39.915369, -86.326264], [34.894269, -80.95206800000003], [36.76191, -121.751513], [39.991118, -76.260737], [29.80535, -95.704114], [40.686031, -75.25191600000002], [36.115766, -86.81060699999998], [34.221385, -118.474932], [29.679891, -95.34268], [25.901416, -80.385257], [32.44342, -93.731956], [38.96269, -76.86719000000002], [29.567289, -95.16701], [25.702474, -80.33150699999999], [37.663917, -121.006929], [30.933942, -87.113871], [38.95658, -104.75043], [45.711225, -94.180845], [33.604054999999995, -112.251659], [28.259926, -82.34015], [33.94453, -84.51029], [34.56089, -86.98517], [41.039801, -75.312535], [40.457413, -74.27614799999998], [29.126799, -82.081779], [25.81066, -80.179672], [42.912696, -85.63438199999999], [44.905951, -93.870023], [25.736554, -80.36776], [33.868799, -117.674898], [37.951166, -122.327371], [34.492969, -80.582473], [33.7791, -117.888768], [39.220364, -121.469163], [26.542968, -81.852604], [39.142841, -121.846556], [41.710917, -88.380898], [28.637696, -81.44348000000002], [39.790796, -104.988924], [33.11261, -117.09718], [34.800084000000005, -91.753853], [33.561741, -81.941281], [39.129384, -76.862057], [47.230399, -122.449579], [33.89199, -117.27254], [39.025887, -122.730717], [39.106522, -94.811509], [45.42567800000001, -116.312464], [36.16894, -86.76298299999998], [33.988941, -117.361096], [34.226744000000004, -118.38768799999998], [25.688195, -80.33145], [39.98202, -76.69476999999998], [35.016222, -85.236014], [26.691293, -80.08580400000002], [25.714585, -80.413965], [37.797946, -121.10693], [44.90304, -122.98499], [34.417265, -82.382363], [46.78127, -92.102813], [38.34796, -112.219365], [39.281635, -121.64571399999998], [40.83488300000001, -73.866244], [29.968979, -90.100764], [33.928634, -118.327596], [30.45884, -81.63434000000002], [35.08405, -89.88831], [38.61725, -121.420069], [43.61953, -116.351918], [42.323766, -88.164632], [35.23653200000001, -80.940658], [34.23105, -118.266182], [43.147728, -77.540925], [33.609284, -117.68599], [34.032077, -118.218994], [33.8847, -84.251178], [34.030584999999995, -118.411097], [33.876356, -118.08236], [34.06997, -117.29582], [25.731345, -80.367727], [28.529638, -81.385849], [39.43008, -87.30712], [29.693435, -95.242194], [33.626135, -117.718774], [30.323551, -81.527393], [35.3919, -97.51157], [33.462204, -112.067948], [33.927919, -118.235278], [25.720163, -80.38369], [37.896135, -122.077926], [37.339546, -77.995767], [42.14984000000001, -70.84243000000002], [40.741821, -73.782967], [42.31484, -83.17005], [30.59369, -87.00078], [39.345443, -76.744976], [26.166068, -80.159787], [38.48227, -122.73684], [42.9728, -85.81987], [33.519574, -117.619926], [40.20329, -77.36193], [37.370622, -121.824462], [32.213734, -110.806894], [28.54768300000001, -80.85174599999998], [43.09148, -83.762887], [27.396734, -80.394841], [38.762978, -120.578241], [32.964182, -117.097397], [33.902075, -118.105066], [39.946261, -75.838498], [42.949751, -78.61746600000002], [40.205448, -75.352947], [37.189651, -121.992442], [29.709983, -95.307008], [37.711235, -122.395749], [33.762719, -117.472966], [39.90293, -75.11588], [35.093340000000005, -85.17994], [34.1553, -118.26876], [37.78341, -121.246281], [33.91435, -117.88273], [42.493195, -87.85290400000002], [38.593428, -121.444756], [25.92058, -80.21030999999998], [30.49838, -87.263979], [40.5913, -111.93872], [46.37896, -94.15113], [29.67179, -95.56027], [29.718529, -95.352965], [28.555059000000004, -81.413976], [28.06711, -82.73876], [34.857171, -82.26418199999998], [38.656592, -77.291164], [26.330517, -81.80828299999997], [28.185119, -82.427757], [40.640476, -74.20525400000002], [35.75156, -78.64767900000002], [37.960849, -122.053249], [36.160219, -86.776645], [30.263961, -85.970664], [39.428225, -87.691692], [28.496312, -81.330917], [25.768701, -80.364613], [33.38558, -111.91549], [37.208551, -93.298704], [37.65419, -122.10048], [26.092947, -80.22498900000002], [29.919534, -90.118449], [27.848099, -82.663911], [35.50108, -80.86712], [29.747671, -95.456641], [28.09368, -82.50235], [27.817167, -82.71226], [29.753969, -95.606042], [47.5777, -122.1303], [33.987492, -118.137322], [30.306004, -97.995653], [34.1458, -117.29651], [29.43892, -98.45646], [45.97103, -92.95739], [44.555836, -123.060082], [43.46902, -90.73245], [43.142851, -77.597912], [36.089268, -95.967537], [30.496051, -87.263101], [40.346583, -74.113985], [42.9405, -83.632543], [34.278128, -118.860645], [37.177441, -121.678258], [42.31757, -87.85615], [34.067414, -117.427969], [38.01876, -121.94717], [40.762951, -74.02538100000002], [35.0778, -89.90996], [36.11384, -86.80948000000002], [44.0289, -92.62821], [45.51952, -122.56557], [32.766512, -97.3162], [40.771347, -73.56118000000002], [34.512961, -118.34028], [37.875076, -122.187999], [32.205851, -110.990282], [33.529478999999995, -117.153561], [44.629481, -123.042409], [40.71360900000001, -74.140662], [42.800484, -87.95316], [43.190648, -124.222043], [37.693843, -122.073736], [39.79781, -123.542308], [42.398006, -83.110384], [38.28878, -77.45622], [32.92812, -117.113673], [36.866491, -119.684029], [33.656579, -84.497553], [37.364126, -122.123326], [34.266158000000004, -78.601084], [42.97792000000001, -87.91587], [35.06078, -89.86601], [38.482348, -123.010623], [39.24476, -94.45684], [37.123042, -77.358613], [38.57681, -77.32681], [47.400313, -92.7802], [37.195728, -77.480611], [39.268534, -75.588183], [40.66954000000001, -75.13528000000002], [33.87608, -118.128989], [37.63429, -121.39434], [25.943921, -80.20533], [43.15525, -77.64395], [44.920259, -93.065124], [32.77912, -116.99436], [37.500978, -77.527164], [37.540692, -121.266949], [45.45333, -122.72465], [33.07508, -117.07052], [43.233289, -73.288487], [37.355089, -122.113396], [38.775617, -90.554942], [35.135642, -85.23932099999998], [33.898375, -118.370277], [30.65558, -88.065875], [35.75474000000001, -81.345763], [38.90262, -77.059017], [32.347761, -95.265916], [41.73619, -83.54785], [36.942847, -80.918415], [41.05036, -73.81059], [34.647344, -92.363492], [25.699599, -80.382101], [39.116746, -77.066119], [28.406581, -81.391645], [39.790311, -121.891432], [38.321439, -121.325398], [33.574218, -117.671984], [33.16632, -87.55068], [40.90446, -74.0335], [33.078671, -80.211877], [45.308919, -121.832412], [35.13863, -85.250759], [37.52412, -77.83051], [37.81608, -121.99347], [34.149874, -84.514549], [43.15473, -77.60799], [34.700734999999995, -120.434993], [40.22136500000001, -74.775234], [36.968865, -121.553304], [40.814146, -73.930862], [40.004195, -75.81241800000002], [44.509364, -92.919765], [41.82112, -71.47570999999998], [29.945666, -90.110907], [25.889312, -80.16566999999998], [45.981, -95.67133], [29.868871, -81.33845600000002], [41.84636, -87.63839], [39.590031, -76.071069], [29.86343, -95.53269], [28.428774, -81.392341], [44.951695, -93.059023], [34.480585999999995, -79.33883], [40.242723, -75.243121], [34.864919, -120.418743], [28.452261, -81.030403], [41.802688, -74.052132], [34.050231, -117.29926], [45.27062, -123.00876], [30.439547, -91.187348], [36.924802, -79.376446], [28.041515000000004, -82.738301], [28.41691, -81.47399999999998], [25.847285, -80.241848], [26.754401, -80.090149], [40.84507, -73.91626], [44.861823, -93.270825], [36.10002, -115.29519], [30.426076, -91.166209], [45.71616, -94.953535], [28.01321, -82.45484], [33.960008, -118.287487], [35.80764600000001, -78.636201], [33.981553000000005, -118.075154], [34.861265, -89.99095], [34.06888, -117.83945], [37.3451, -121.92356], [39.11427800000001, -94.564581], [25.980119, -80.166043], [33.95826, -84.73943], [25.848564, -80.158721], [30.683946, -87.403908], [39.7716, -84.18575], [45.716721, -92.992052], [37.196477, -93.317389], [28.176103, -82.35374499999998], [34.86796, -120.398569], [36.007162, -80.135018], [39.335584, -120.306577], [34.029518, -118.432284], [40.201091, -75.25570400000002], [35.723182, -120.698399], [40.74324, -73.83293], [36.06776, -80.179702], [36.753956, -119.780126], [34.493046, -112.00584], [33.505114, -112.112571], [39.847464, -75.428556], [39.029472, -77.119602], [39.785431, -75.546165], [43.025497, -83.65568499999998], [33.981905, -118.256421], [36.148926, -86.77458399999998], [44.567771, -124.068512], [33.978224, -117.371222], [25.979737, -80.22988199999998], [25.769715, -80.33499599999998], [42.51967, -71.69105], [39.377864, -112.079075], [32.774609000000005, -96.811748], [37.544535, -122.288059], [35.66885100000001, -78.694704], [42.415858, -123.386], [33.84788, -117.856112], [40.390495, -109.595956], [40.730898, -74.047987], [37.8963, -121.279681], [42.939968, -85.683614], [36.98742100000001, -121.964912], [42.198119, -123.651206], [39.241029, -76.59241999999998], [34.018849, -118.192258], [37.551215, -77.428067], [43.8308, -95.175525], [34.652006, -86.47929599999998], [34.265831, -119.237333], [39.25216500000001, -76.525515], [35.020184, -85.16099], [30.16992, -81.60696999999998], [40.56718, -80.01648], [36.706929, -119.755039], [33.6676, -112.21385], [39.05584, -94.49347], [34.082635, -118.22679], [30.755894, -85.380802], [40.336949, -78.788381], [38.51627, -106.06547], [32.48843, -93.797234], [25.896224, -80.211099], [42.974332, -82.483384], [37.651654, -122.09868], [45.295992, -122.563178], [38.486312, -77.39085899999998], [36.590729, -119.790842], [43.884361, -95.100885], [37.699255, -121.929515], [39.73597, -105.0144], [38.870273, -77.30020400000002], [39.250862, -74.662837], [40.68066500000001, -121.424596], [42.195888, -87.989426], [33.876935, -117.522617], [33.70966, -84.245902], [45.013293, -93.187826], [29.973697, -90.066293], [39.18777, -104.85028], [35.880457, -84.232445], [34.890544, -82.406175], [43.667086, -123.697723], [34.903741, -82.324191], [32.964305, -96.917126], [32.902497, -96.721347], [38.206517, -81.471009], [42.98668, -83.725444], [40.86757, -74.00414], [40.575902, -111.9773], [36.117736, -78.7475], [47.63205, -122.18564], [37.263038, -77.398041], [38.815973, -77.137638], [40.362492, -120.857323], [34.134512, -117.664004], [45.03598, -92.80745], [38.690171, -120.787572], [38.55163, -121.4324], [40.413755, -76.5883], [25.69143900000001, -80.36596], [42.80378, -96.135375], [30.431174, -91.052058], [33.76115, -84.38091999999997], [25.829173, -80.205963], [37.348526, -121.860297], [34.07277, -118.46648], [32.781218, -117.131415], [45.3214, -93.56177], [32.804499, -86.58103100000002], [37.546363, -121.195991], [48.062299, -106.043268], [28.74873, -81.36618], [25.702429, -80.33314200000002], [35.208281, -114.10136599999998], [28.62573, -81.476336], [30.700014000000003, -87.172415], [30.483812, -86.416728], [25.747848, -80.326635], [37.984875, -121.25006299999998], [34.067384000000004, -117.567625], [35.43525800000001, -119.012279], [41.73564, -84.98805], [45.677622, -118.888895], [38.698632, -121.382785], [40.82009, -73.89026], [34.757872, -82.300501], [40.6643, -73.99104], [25.898347, -80.209577], [34.606289000000004, -82.702507], [25.83451, -80.205933], [33.945396, -118.041667], [43.021956, -123.299592], [40.692635, -111.902895], [25.627116, -80.3418], [33.34356, -111.89334], [40.70759, -73.81893000000002], [32.846855, -117.235862], [38.450464, -123.124455], [28.37153, -81.42567], [37.11749, -93.75905], [39.023276, -123.316179], [45.330358, -93.855632], [25.688437, -80.31718599999998], [37.529098, -77.31125899999998], [32.91211, -96.73633], [40.1396, -76.38269], [41.81905, -71.38453], [25.782281, -80.199851], [34.12142, -117.88138], [41.725751, -122.556215], [29.97278, -90.06571], [27.84758, -82.64698], [40.32829, -79.796442], [45.483051, -122.56583], [33.6172, -83.92535], [40.498899, -111.89136299999998], [34.164903, -118.382786], [39.95873, -82.84380999999998], [38.634047, -77.291206], [27.005521, -80.208789], [44.972223, -117.879084], [40.98749, -73.68021], [40.004685, -75.299111], [45.515935, -122.699206], [38.99526, -94.69625], [28.431152, -81.40468], [37.696725, -121.406388], [38.418571, -82.25916600000002], [34.130361, -79.942238], [44.75613, -123.05004], [33.95327, -118.237946], [38.68653, -90.24676], [47.567854, -122.354285], [38.643136, -77.010201], [36.29816, -119.349306], [39.187364, -78.11929], [40.55722100000001, -75.439513], [41.88208, -88.19456], [25.732173, -80.33572099999998], [26.115456, -80.3173], [45.53959, -122.55983], [37.690803, -122.091763], [40.47958, -111.90258], [41.930969, -87.949034], [25.624386, -80.414423], [37.764754, -121.388133], [43.050376, -115.580775], [44.976235, -93.527415], [35.24663, -80.7879], [36.923709, -120.032673], [34.668890000000005, -86.76388], [37.764612, -121.411081], [38.88163400000001, -78.52189399999997], [30.637736, -91.108754], [38.826053, -81.726395], [28.101793, -81.948512], [36.88126, -76.18684], [34.277848, -118.608301], [28.18582, -82.437861], [34.092919, -81.034238], [47.48008, -122.20071000000002], [37.85134, -122.2229], [38.879317, -76.997276], [34.02754, -118.27471], [42.35969, -87.85574], [32.841213, -117.121242], [36.102521, -118.85733], [39.605425, -76.303662], [30.420982, -87.325604], [34.269870000000004, -118.48756000000002], [40.667585, -112.025597], [33.029146999999995, -96.99279], [40.9282, -74.07052], [33.965866, -112.128661], [37.433831, -120.730595], [45.244769, -93.67412], [35.757981, -84.31968], [41.86853, -71.05662], [27.493683, -82.484847], [41.533641, -72.767581], [33.898140999999995, -118.37018], [33.782819, -84.49588100000003], [33.70061, -117.77518], [44.878121, -93.163302], [39.12005, -77.080925], [36.269422, -119.313391], [35.917187, -78.788529], [39.041852, -94.666652], [25.926029, -80.15029200000002], [32.652434, -96.873462], [44.765181, -93.781246], [29.837311, -95.529772], [27.453514, -82.543514], [40.73646, -73.909244], [34.2745, -118.542791], [43.09303, -73.75161], [36.971901, -77.711223], [32.705825, -96.901255], [25.588333, -80.381035], [41.06229, -81.51026999999998], [33.847753000000004, -118.272265], [40.6877, -111.79767], [41.825452, -71.419239], [41.365774, -122.367642], [33.66903, -112.12274], [47.56865300000001, -122.32023], [45.33685300000001, -122.769116], [38.985303, -77.619435], [40.05357, -82.90235], [40.834176, -111.918952], [39.17636, -76.63606999999998], [27.558398, -81.678474], [32.77811, -117.11232], [37.082022, -77.358137], [30.313769, -81.652591], [38.553911, -121.409064], [34.089554, -118.815457], [44.55444, -123.11007], [40.05139000000001, -111.737099], [31.767088, -106.341361], [27.89369000000001, -82.24382], [25.809446, -80.312034], [26.330517, -81.80828299999997], [30.388504, -87.273965], [45.79806, -108.51976], [37.521576, -113.209884], [34.055582, -118.197112], [42.035849, -88.308175], [25.714385, -80.415182], [34.222251, -117.40974], [25.897232, -80.244632], [33.902633, -118.257498], [33.994215000000004, -117.8415], [36.152607, -86.830667], [40.313745, -76.881873], [47.926236, -92.829355], [33.522079999999995, -117.09766], [43.146818, -77.586541], [40.874928, -73.992579], [42.97402, -73.801978], [38.93973, -76.88417], [41.749828, -104.831508], [37.98305300000001, -120.275777], [43.784231, -122.538671], [33.854899, -118.228692], [47.01084, -123.37093], [34.193293, -79.775847], [45.508674, -122.73658], [43.01109, -83.532791], [28.6979, -81.32725], [40.73663, -74.08453], [33.559343, -117.672864], [25.716603, -80.431279], [33.775993, -118.2794], [30.230167, -97.722983], [25.685183, -80.418839], [32.793576, -96.814579], [36.450566, -119.489203], [34.064336, -118.011272], [33.410844, -111.978324], [33.950461, -117.303118], [36.14416, -115.225207], [42.185355, -122.668892], [34.028465999999995, -118.229809], [40.020781, -75.14163], [25.784318, -80.23532800000002], [39.27052, -77.21674], [35.703905, -120.744151], [41.524544, -93.519335], [25.761494, -80.364374], [36.770425, -76.463406], [37.116504, -80.41720699999998], [33.856034, -118.019935], [28.416491, -81.42147], [37.087022, -76.456614], [28.59758, -81.29731600000002], [31.75612000000001, -106.267844], [43.65122, -70.33126], [28.543752, -81.413584], [34.207758, -118.200078], [25.708076, -80.371742], [45.606371, -120.722182], [40.63435, -111.369829], [38.419667, -122.715871], [42.790949, -73.760542], [39.671941, -106.645606], [39.96524, -86.00157], [41.35525, -73.09312], [38.33508, -81.6087], [35.86504, -78.63779], [37.957504, -78.26861], [43.00380300000001, -78.945683], [32.473751, -80.973454], [39.875453, -75.043773], [40.625663, -111.439664], [33.87608, -118.128722], [47.15845, -122.39822], [40.872184, -73.980202], [39.014446, -77.095051], [40.063879, -74.798316], [33.982187, -118.287036], [41.54356, -93.59684], [33.924731, -118.210009], [38.94057, -94.581909], [34.133129, -80.91989000000002], [38.936587, -94.451769], [35.570522, -80.856875], [37.92036, -122.06244], [37.7678, -122.40568600000002], [33.546932, -86.623361], [43.221598, -115.820649], [41.88619, -84.04343], [37.2193, -121.733426], [26.342545, -80.153839], [38.060618, -122.13118], [34.377563, -119.480018], [46.14037800000001, -122.897969], [38.391221, -78.808814], [33.76163, -78.962567], [37.428169, -122.10143], [34.265898, -118.472857], [29.97301, -90.07392], [32.882670000000005, -80.019813], [33.698570000000004, -117.86129], [34.023153, -118.156458], [36.852472, -121.451054], [38.781641, -77.180038], [41.811435, -78.43381], [36.987959, -77.25078], [39.007451, -77.086259], [35.05912, -80.771915], [26.048285, -80.162138], [37.372629, -79.915099], [37.873625, -122.044124], [34.281109, -112.118943], [44.861111, -93.319509], [28.450781, -81.477807], [32.925231, -96.7934], [33.548033000000004, -111.87927], [33.98513, -117.344908], [34.088992, -117.301706], [45.37788, -94.00008], [38.862644, -77.342752], [33.689884, -117.768519], [37.797791, -121.12529], [39.94644, -82.9434], [32.885961, -96.700672], [29.94377, -90.091996], [29.9969, -90.04522], [35.779262, -84.349197], [44.314611, -93.964965], [33.602509999999995, -114.514135], [38.91892, -77.21669], [44.866629, -93.247479], [34.820533000000005, -81.033407], [38.92326, -76.93093], [32.73498, -96.82382], [43.33218, -89.35633], [36.089703, -119.204627], [35.908931, -80.06427099999998], [27.276081, -82.564297], [32.506635, -93.748639], [27.805059000000004, -81.226159], [42.9633, -123.85725], [35.201193, -78.67154000000002], [39.704889, -77.32767], [25.824945, -80.383404], [44.942261, -92.430516], [32.267886, -81.87366800000002], [27.998613, -80.625504], [30.439162, -91.191906], [37.783488, -121.228846], [33.557387, -112.260483], [41.67018, -81.24689000000002], [36.097689, -95.85974], [29.569221, -82.471102], [34.162173, -118.158689], [28.638956, -81.443607], [33.928622999999995, -118.326549], [36.203674, -119.278151], [33.896678, -118.254401], [37.649781, -77.60432800000002], [38.406923, -122.845931], [33.988882000000004, -118.389296], [39.2867, -76.56528], [35.233409, -80.83553], [34.153693, -118.287745], [32.79919, -117.21107], [40.183692, -75.227419], [30.306322, -81.523833], [41.83151, -88.01677], [45.208333, -93.406843], [39.753309, -86.150654], [38.381887, -75.067563], [32.499071, -84.945784], [44.718093, -118.161417], [30.31805300000001, -81.679247], [40.769578, -77.860737], [38.44928, -122.72598], [34.282, -83.80754], [30.324522, -97.725217], [41.355993, -72.947261], [40.3408, -75.31586999999998], [36.976341, -121.98288], [35.309991, -119.002984], [37.159205, -119.242719], [38.554678, -121.375137], [39.936794, -75.076757], [37.888935, -121.623061], [42.957121, -71.435907], [40.813052, -73.898103], [40.417327, -76.209352], [34.049242, -118.18903], [40.457452, -79.988095], [37.72279, -122.13626], [30.287456, -82.001953], [38.805573, -120.122875], [25.702455, -80.332105], [34.033133, -118.145156], [26.175454, -81.751223], [45.467732, -118.861221], [34.068586, -118.16255], [44.952873, -93.095104], [40.29528300000001, -74.498042], [33.659265999999995, -117.750273], [34.07201, -118.1081], [36.075519, -86.661793], [29.51898, -98.66893], [33.905429, -118.105102], [38.780826, -77.3039], [43.55817800000001, -73.40456999999998], [38.23375, -85.75081], [37.653633, -120.774174], [38.370941, -77.465769], [38.381155, -77.452872], [33.616278, -117.087471], [34.889671, -82.169379], [40.844796, -73.905512], [34.412528, -118.578295], [37.95681, -122.549108], [37.380869, -118.477338], [29.222297, -82.238939], [45.49374, -122.67365], [27.863621, -82.326522], [40.06260200000001, -76.313799], [34.056062, -117.546582], [33.689012, -117.919357], [30.138359, -81.701902], [45.30520300000001, -119.002307], [34.743124, -92.282325], [38.8152, -104.82453], [29.962732, -90.166864], [34.055040000000005, -118.2569], [34.0488, -117.80155], [40.02308, -75.0348], [25.949013, -80.120882], [28.59141, -81.286399], [38.620086, -121.913684], [34.597542, -82.582542], [39.389787, -76.722043], [42.726527, -84.53246700000003], [38.77469, -90.50861], [25.96533, -80.16485], [34.071115, -81.012751], [39.07582100000001, -94.607358], [36.750957, -119.75445], [34.75582, -118.79598], [39.173106, -77.245346], [37.76695, -121.73313600000002], [40.087426, -74.971808], [41.227986, -74.181246], [40.187205, -77.21121600000002], [30.383558, -86.176248], [43.221281, -123.359033], [37.472148, -122.295947], [39.324828, -77.362953], [40.735757, -73.858859], [35.17647, -80.88606999999998], [25.811557, -80.19538100000003], [39.26932100000001, -123.638271], [34.174755, -118.518531], [35.847069, -78.794127], [28.577790000000004, -81.46776], [43.848999, -120.73201], [35.510655, -82.578746], [45.572668, -93.213929], [37.73047, -81.19856999999998], [39.966082, -76.725087], [40.786474, -73.388575], [34.071304999999995, -117.977827], [38.089696, -78.99567900000002], [25.747537, -80.337062], [39.25933, -74.93099000000002], [25.898932, -80.19704], [38.69993, -122.89491], [29.45967700000001, -98.515745], [45.551147, -93.583824], [28.203417, -80.661202], [25.81673, -80.377189], [37.353676, -120.50355], [33.925781, -118.10377], [40.20435, -104.932144], [34.033064, -117.756509], [34.122129, -117.695857], [33.81531, -117.51178], [39.642961, -77.760727], [46.165569, -123.745783], [38.570605, -90.440815], [25.748481, -80.287487], [40.821698, -73.888124], [42.206522, -121.727728], [47.50458, -121.88454], [25.826214, -80.33280400000002], [25.865481, -80.250688], [37.543759, -77.44783199999998], [34.54244, -92.63818], [32.413157, -80.648925], [40.86459, -73.81371999999998], [41.003468, -73.650464], [37.686623, -122.123063], [35.803488, -91.621459], [25.88388, -80.207513], [32.922238, -117.115255], [29.834078, -95.563904], [25.932617, -80.121894], [43.10399, -73.57965], [36.14491, -80.30102], [34.259245, -119.224257], [38.596225, -121.415453], [25.865819, -80.185393], [25.92105, -80.350409], [39.239242, -77.27998000000002], [40.425127, -76.52523599999998], [45.106597, -93.463478], [44.138625, -122.613022], [34.013763, -118.492076], [27.20833, -81.283852], [45.972626, -108.384354], [32.799726, -96.792985], [31.318792, -89.400982], [35.19144, -89.80006999999998], [44.97656, -122.99093], [42.35433, -83.10596], [25.727104, -80.380625], [35.286313, -80.761655], [38.641355, -121.45162], [33.956433000000004, -117.306314], [33.19166, -117.243829], [41.573087, -87.444102], [38.004458, -122.038839], [37.05977, -76.412798], [36.025385, -86.632622], [34.26375, -119.003906], [34.025768, -118.275323], [28.4385, -81.41305], [39.891338, -80.049267], [34.728968, -82.429059], [42.19715, -88.01881999999998], [34.50652, -117.906425], [37.56071, -122.03565], [41.57829, -87.59541], [35.088390000000004, -89.87190799999998], [28.03692, -82.09813], [25.797779, -80.337127], [37.01291, -76.45640999999998], [38.511997, -76.139862], [33.98979, -117.350057], [43.61953, -116.351361], [33.925834, -118.212515], [45.006359, -93.204549], [25.695959, -80.29985500000002], [42.593146, -123.387628], [39.85660900000001, -77.227103], [29.99233, -95.42433], [38.677093, -121.751166], [32.704332, -117.120607], [32.163268, -110.983733], [35.796467, -78.506928], [40.683158, -73.682698], [37.785341, -122.178309], [34.035328, -118.369449], [37.380498, -77.41195], [42.708338, -73.858283], [34.004446, -117.550174], [32.66192, -96.89588], [45.902305, -122.740727], [45.469934, -122.68316000000002], [26.17006, -80.8511], [39.959465, -75.174464], [45.178152, -93.306564], [43.075118, -73.750006], [37.784447, -121.188077], [36.852184, -121.451195], [38.268682, -77.514802], [33.883874, -118.02898], [41.65287100000001, -96.027663], [37.850276, -122.231634], [34.132634, -117.500668], [29.73787, -95.391181], [48.226402, -114.26613600000002], [35.718591, -118.726058], [35.70310999999999, -83.038466], [32.481143, -80.981771], [46.894005, -122.681134], [38.706285, -121.383006], [43.017364, -75.001848], [30.08667, -81.49795999999998], [44.664807, -121.957227], [33.03921, -117.28359], [40.117883, -75.351178], [40.68799, -73.59273], [47.898497, -122.109341], [37.31856, -121.88965], [43.27823, -85.81043000000003], [40.606872, -74.044013], [42.024019, -121.599444], [47.846792, -115.61916399999998], [38.83866, -104.46114], [30.321898, -81.526763], [25.884512, -80.24322], [34.136257, -117.45373700000002], [33.70985, -84.24579], [38.642357, -84.584159], [27.31449000000001, -82.1082], [39.57639, -76.12417099999998], [40.19337700000001, -77.96821], [33.892848, -118.278748], [29.42222000000001, -98.423326], [29.651952, -95.264931], [35.237814, -80.854414], [34.003725, -118.286382], [37.122902, -121.972837], [33.900721999999995, -118.18693600000002], [38.725304, -121.289976], [39.9305, -86.27306], [40.126425, -75.348977], [37.930835, -76.856602], [32.72925, -117.10681], [36.152755, -86.76590999999998], [28.55191, -81.4916], [40.73927, -73.73938000000003], [35.127292, -106.618248], [41.98632, -87.86878], [33.130202000000004, -117.117203], [33.89246, -118.195359], [45.093215, -123.381559], [40.675839, -74.279412], [44.83367, -93.191152], [41.2802, -72.95903], [34.669986, -82.185233], [43.6056, -123.22468], [36.688264, -120.659975], [25.941223, -80.306794], [41.87385, -87.80816999999998], [37.515185, -77.24873000000002], [32.30679, -81.8669], [45.68037, -120.79602], [30.417243, -91.176423], [43.822671, -122.609041], [35.015213, -85.163684], [41.54782700000001, -73.943811], [43.14834000000001, -75.88927], [28.551914, -81.491106], [40.121723, -75.359387], [38.910022, -76.935957], [25.686005, -80.39960699999997], [34.057981, -118.44696299999998], [30.377858000000003, -97.710272], [47.52276, -117.19749], [47.05165, -93.11942], [36.987786, -121.958361], [37.962752, -91.763123], [27.995008, -82.366157], [43.905283, -92.254611], [33.775094, -117.853034], [34.272036, -118.42843899999998], [42.99111, -88.04698], [34.068844, -117.346438], [36.554974, -121.897208], [32.740679, -96.821138], [25.787745, -80.19787], [25.86733, -80.209856], [41.43063, -74.62375], [39.364607, -111.58707], [30.225266, -93.30771], [33.698683, -111.968718], [38.873974, -76.978014], [25.670941, -80.414505], [41.27135, -96.07611], [33.81794, -117.91821000000002], [45.67406, -94.831548], [33.312381, -80.552498], [40.119312, -76.051702], [32.753816, -117.20001299999998], [33.722213, -117.974756], [47.004193, -108.790712], [30.764984, -86.597635], [35.0812, -80.73026999999998], [34.328817, -81.605114], [37.438692, -77.596765], [33.94536, -118.36823], [30.576399, -84.694], [28.335271, -81.489677], [36.18945, -86.7288], [47.69884, -122.89632], [40.555676, -75.435916], [28.068672, -82.73897], [40.54963, -85.55060999999998], [34.161375, -118.293174], [32.879451, -96.689718], [33.74181, -84.41368], [33.46154, -112.099153], [39.401061, -84.564924], [36.849355, -76.210196], [43.0542, -76.11865999999998], [27.498007, -82.476865], [40.856019, -73.97220300000002], [41.1948, -73.19505], [40.905334, -73.878303], [34.119857, -117.867941], [35.42079000000001, -118.967699], [38.010667, -120.270961], [36.844992, -76.26807], [41.868542, -87.938811], [32.812576, -96.722632], [37.563599, -122.51266499999998], [38.490246, -112.617942], [41.79733, -71.40356], [40.025542, -75.02815600000002], [34.627307, -118.152991], [35.75185, -78.70633000000002], [35.08888, -80.853388], [35.89043, -78.561738], [34.631127, -86.870646], [45.486005, -117.42785], [26.547684000000004, -81.78012199999998], [33.876293, -118.122033], [25.626994, -80.394976], [28.208085, -82.66624300000002], [43.041622, -76.142423], [33.462439, -112.128574], [35.89933, -84.172939], [38.942419, -121.095136], [26.269243, -80.125833], [41.31989, -73.979924], [34.700322, -82.880534], [38.972506, -76.896835], [33.91449, -117.88267], [33.668965, -112.16939], [40.010246, -76.188064], [37.688489, -122.073611], [45.0355, -92.90379], [34.512609999999995, -120.222385], [28.493789000000003, -81.46001600000002], [33.95323, -117.303871], [34.06833, -117.37947], [35.237542, -80.959314], [43.09889, -73.83861], [32.440766, -93.711334], [42.6001, -123.38335], [25.57044800000001, -80.377651], [41.422091, -78.72934000000002], [34.087241, -117.659512], [41.551724, -73.03335899999998], [32.92472, -96.78979], [35.851331, -78.580816], [39.089749, -121.883278], [45.47169, -122.6716], [32.675582, -96.946502], [32.925134, -96.78748], [45.908869, -123.691124], [34.079244, -117.62591299999998], [44.083421, -116.979529], [37.597228, -77.6121], [37.976868, -122.520702], [33.743212, -117.119158], [34.06618, -117.471221], [40.75055, -111.71931], [28.552398, -81.448211], [25.727709, -80.364525], [37.893523, -122.557214], [36.032313, -79.80459], [35.07575, -85.10614], [32.837336, -97.073657], [34.746252, -82.14552900000002], [40.81817, -73.28662], [34.031240000000004, -118.21939], [28.481315, -81.417435], [40.06658, -74.16171], [37.57743, -77.39589000000002], [33.988277000000004, -117.904177], [33.984586, -117.344351], [39.377671, -74.483302], [35.325025, -109.082554], [32.785691, -97.212412], [40.83479000000001, -73.83856999999998], [40.12416, -74.70021], [40.810582, -73.934881], [32.652814, -97.320689], [34.465645, -93.016186], [33.49494, -111.92612], [41.13187, -81.65151], [41.49502, -81.6813], [34.086839000000005, -117.641444], [37.034815, -76.356257], [34.154654, -118.398321], [34.552846, -117.827255], [38.620194, -90.189589], [41.05063, -77.348352], [45.144268, -122.741517], [40.823897, -73.001435], [45.12483, -93.34319], [38.865172, -77.26101700000002], [25.578714, -80.369339], [38.95232, -104.80742], [29.70212, -95.29549], [38.12097, -122.56579], [36.148874, -86.774749], [39.741599, -84.184398], [39.904818, -75.112817], [40.206001, -74.754592], [29.931715000000004, -95.407811], [36.840373, -76.021173], [28.57695, -81.451387], [42.028745, -71.26128299999998], [32.766517, -96.695289], [25.927068, -80.12235799999998], [37.21302100000001, -121.726573], [38.777822, -94.933193], [42.195888, -87.989426], [38.855661, -77.839822], [43.678677, -116.413672], [35.721971, -120.297509], [44.96545, -93.26254], [25.902315, -80.308392], [34.029, -118.21704], [40.758837, -73.999153], [39.07635, -104.858783], [35.47879000000001, -82.55507800000002], [29.71886, -95.500766], [33.93822, -118.12966000000002], [37.67163400000001, -120.940299], [33.786766, -118.094138], [34.006788, -118.15526], [33.967742, -118.163242], [39.36079, -77.16539], [35.261221, -80.83816800000002], [34.748328, -92.393914], [35.251012, -118.916606], [26.935, -82.01723], [33.660802000000004, -117.748221], [38.669435, -77.258868], [45.48034000000001, -122.68022], [33.97647, -118.235073], [34.444574, -79.368742], [37.702969, -121.76067], [32.668329, -97.221238], [38.49585, -122.752069], [44.86096, -93.44889], [37.5182, -77.38275], [34.06438, -117.278817], [40.668728, -112.283492], [29.931817, -89.998165], [40.858674, -73.9742], [25.820351, -80.236588], [36.241074, -86.755052], [31.319019, -89.399486], [32.67573, -80.882871], [33.46102, -112.29573], [42.85263, -85.73161], [27.4492, -82.530501], [40.65616, -74.00591], [33.642703000000004, -117.419877], [40.828317, -73.93111400000002], [30.407141, -87.342263], [44.950915, -93.105], [33.73602, -117.99428], [37.072509, -122.084315], [33.967467, -118.25638899999998], [34.026256, -117.753535], [44.79302, -95.80869], [39.94262, -75.11346999999998], [37.777325, -122.403055], [45.488473, -118.409668], [34.280415000000005, -118.418783], [32.661076, -97.269907], [44.66655, -92.78142], [40.955195, -75.116212], [35.263708, -80.79507199999998], [44.95089, -93.00908], [40.758601, -74.209052], [45.037664, -93.042969], [37.145716, -121.985048], [40.118335, -75.351991], [27.388369, -81.41202], [40.671281, -73.998388], [28.35967, -81.38773], [34.126388, -118.475396], [45.51016, -122.66665], [41.83877, -87.63104], [34.221662, -118.417306], [38.597991, -121.401549], [37.634974, -122.08695], [41.74981, -72.71993], [44.973059, -93.294063], [28.361104, -81.388475], [29.941217, -90.075726], [28.002954, -80.567829], [41.72385300000001, -72.788275], [27.962484000000003, -82.76389], [25.84082, -80.324969], [39.827373, -123.571799], [27.845713, -82.676625], [37.319697, -121.890199], [39.320535, -121.596098], [44.69162100000001, -121.987692], [42.88162, -85.80190999999998], [39.77496, -86.270045], [35.236328, -78.636587], [35.76759600000001, -78.504168], [34.065284000000005, -117.806665], [33.880001, -118.191896], [36.779901, -121.703667], [34.15315, -118.36151], [40.111955, -75.28666], [42.757556, -73.76526899999998], [32.766433, -96.803637], [33.866931, -117.723573], [39.64415, -84.23301], [34.167534, -118.300341], [26.15146, -80.33836], [36.075429, -95.866452], [33.912908, -118.140823], [38.5229, -90.39564], [35.07164, -89.85638], [45.886276, -108.305121], [33.873344, -118.060573], [25.888477, -80.323995], [29.971329, -90.104148], [45.053182, -93.318697], [42.802582, -78.81429], [42.380485, -88.062815], [25.97948, -80.16581], [34.026447, -117.33326], [40.098347, -75.298647], [45.710368, -121.496196], [40.252647, -75.296275], [30.484, -84.30396], [28.545488, -81.519428], [39.016511, -121.434725], [33.87682, -118.174418], [40.418415, -80.10328], [33.51937, -117.621385], [43.45857, -123.32347], [32.616609999999994, -96.82262], [37.34861, -121.84003], [37.804281, -121.98976], [45.30565, -92.95781], [32.821940999999995, -96.785874], [33.811370000000004, -118.290394], [36.1921, -86.77546], [26.702494, -81.756968], [33.885879, -118.104224], [33.903912, -118.274892], [32.838433, -96.777656], [38.305003, -77.623627], [25.769483, -80.33749399999998], [41.76599, -72.68786], [45.3464, -122.98387], [35.129193, -85.009774], [33.74156, -84.41609], [33.45645, -117.651695], [40.72601, -111.9508], [42.927612, -85.66967], [37.858644, -122.212162], [39.015345, -77.031773], [45.25245, -93.555069], [37.67619000000001, -97.359892], [33.324282000000004, -117.158116], [45.351621, -93.90944], [33.605259000000004, -117.689164], [40.944145, -77.723239], [37.733096, -122.405622], [35.015809999999995, -85.27839], [34.15266, -118.10763], [36.141296, -86.73185699999998], [33.941091, -117.249473], [32.177772999999995, -110.98126200000002], [38.515407, -121.438109], [33.565332, -112.324441], [25.884605, -80.363392], [40.012582, -75.72583], [41.517795, -94.128917], [42.96746, -73.80185], [46.215871, -114.155221], [36.515003, -119.55761], [35.169255, -80.80572], [38.688779, -77.220919], [25.53848, -80.37207099999998], [35.061233, -82.16541099999998], [37.587241, -122.247398], [34.023514, -118.044087], [26.146323, -80.524517], [34.31172, -118.48701], [34.035311, -118.221698], [32.203140000000005, -96.89592], [34.037864, -118.171351], [40.096603, -75.28437199999998], [33.467172999999995, -112.012919], [42.08844600000001, -122.603379], [34.064461, -118.246143], [37.42528, -122.09804], [39.36134000000001, -76.77863], [33.826640000000005, -118.20703], [40.248821, -75.24646899999998], [37.86125, -122.03305], [37.374965, -122.067745], [39.776292, -104.873713], [38.51989, -75.92174], [38.960206, -121.098], [27.977463, -82.453577], [30.176793, -82.68717099999998], [42.35194, -87.93911], [38.233205, -78.369523], [39.09354, -94.64318], [33.46216, -112.0236], [28.319267, -81.237617], [45.063147, -93.161156], [38.239987, -85.49221700000002], [35.306204, -80.74951], [41.98505, -88.14324], [38.550467, -121.535093], [27.476628, -82.50161800000002], [38.878662, -77.260351], [33.82762, -118.28749], [33.912819, -118.179471], [33.91369, -118.11368], [35.568119, -120.700639], [45.93224, -123.90736], [28.450897, -81.387312], [36.153332, -86.686737], [34.929281, -91.110938], [34.156833, -118.41378], [25.928132, -80.293405], [35.02922, -85.31128000000002], [39.030679, -94.276074], [33.667390000000005, -84.34015], [32.293865999999994, -95.325357], [39.93951, -82.91545], [41.19215300000001, -73.19479100000002], [42.281842, -93.570565], [33.701421999999994, -84.116915], [38.92986, -76.87108], [41.205518, -76.78623499999998], [33.22039, -111.988397], [47.669582, -122.187204], [44.69421, -93.29012], [42.0348, -124.24109], [39.398678, -76.5515], [32.744529, -117.109952], [30.358756, -81.668716], [28.021734, -82.250057], [45.69118, -120.431516], [42.97402, -73.97645], [30.44504, -90.997367], [34.17353, -118.5567], [33.01027, -117.26473], [38.56426, -121.51386], [34.215838, -119.028553], [30.337031, -83.195601], [38.327475, -85.754295], [40.6984, -73.68209], [41.83542, -87.60776], [38.67858, -121.239697], [32.790146, -117.239883], [38.563906, -121.493574], [40.31261, -78.88441], [42.962315, -77.042376], [32.865502, -96.814821], [35.714449, -79.009204], [33.704256, -117.324551], [34.992517, -82.245336], [28.224686, -81.449826], [45.04324, -122.97637], [46.18308, -123.065139], [43.69487, -93.31955], [32.688572, -97.320978], [32.978838, -117.086092], [32.273121, -110.978225], [30.218856, -97.806657], [35.26485800000001, -80.875757], [25.747129, -80.319802], [33.375069, -117.56089], [41.7404, -87.6251], [32.689722, -117.165981], [36.952189, -121.382521], [46.707247, -113.334885], [27.447719, -82.563324], [38.611872, -76.04859599999997], [25.97861, -80.35179000000002], [38.70369, -121.34592], [25.9406, -80.19075], [30.397866, -91.100863], [29.085490000000004, -82.250654], [37.715647, -121.092149], [30.666694, -87.09654499999998], [32.6171, -117.084126], [45.666398, -123.925682], [35.026336, -80.965233], [30.25920300000001, -97.759014], [39.160092, -119.740844], [42.39214000000001, -82.99991], [26.667017, -81.813357], [38.645522, -121.377652], [29.934637, -90.094434], [35.29367, -80.79709100000002], [35.742292, -78.939839], [44.062351, -123.049359], [33.990728999999995, -117.933101], [45.040032, -93.096403], [34.034987, -118.85136], [29.849506, -97.961537], [37.38363, -121.8163], [40.85468, -73.91859000000002], [38.819463, -77.129997], [36.20352000000001, -86.77684], [30.701693, -81.67589100000002], [34.071686, -118.132567], [41.55276, -72.932713], [40.392919, -79.93260699999998], [37.50692700000001, -122.341293], [37.8974, -122.10096], [36.46115, -110.69211], [34.257391, -118.467469], [37.97273, -112.742418], [45.01002, -93.18227], [37.390106, -121.814032], [44.51603, -84.66541], [39.315916, -120.61704], [37.67266, -97.418006], [40.326941, -75.93672600000002], [33.89674, -117.48426], [35.19144, -89.80006999999998], [33.923732, -118.253375], [35.026393, -80.963769], [35.941727, -78.56107], [29.211784, -82.088803], [26.70404000000001, -80.144716], [39.100288, -114.434634], [37.36051, -120.572825], [47.669582, -122.187204], [37.354591, -77.413012], [28.030205, -82.73830799999998], [25.768418, -80.370356], [36.749493, -119.79894], [41.56226, -87.75106], [38.979851, -121.020464], [40.941057, -76.636806], [34.422929, -117.383146], [42.494784, -82.92886999999997], [26.245022, -81.801165], [43.547574, -96.671548], [40.272819, -75.288539], [35.26692, -80.84424], [45.242991, -92.983935], [42.509161, -79.206758], [42.291225, -83.191349], [33.98635, -118.28025], [43.12673, -89.291], [38.253031, -78.952378], [35.38429, -97.20744], [38.629979, -77.415182], [25.588787, -80.359162], [38.751397, -121.392666], [38.666235, -121.310457], [34.009338, -117.583271], [40.645447, -73.973102], [37.122657, -76.50740400000002], [34.081610999999995, -117.630532], [36.901607, -119.792375], [38.59371, -121.5044], [34.033959, -118.355227], [36.88955, -76.22971], [43.972224, -93.255156], [28.481804, -81.458702], [33.957346, -118.087645], [34.15933, -118.460824], [33.745556, -84.34921], [34.151793, -118.155642], [37.56635, -122.04168], [37.43882, -121.889179], [29.957259000000004, -90.079189], [37.694602, -120.182785], [27.972133000000003, -82.4536], [29.679659, -95.595828], [29.883318, -95.411833], [35.26091, -80.84178], [34.275612, -117.450324], [27.783537, -82.71730500000002], [34.83596, -82.29219], [30.32054, -81.456672], [25.967728, -80.32826999999997], [25.763012, -80.306494], [41.28882, -73.81938000000002], [41.834876, -94.362995], [47.57844, -122.21166], [38.05002, -122.140374], [40.135765, -75.79610799999998], [45.043183, -93.103487], [35.35205999999999, -118.9089], [39.085233, -84.52292], [30.503286, -88.30609], [38.556806, -121.444551], [43.17643, -78.840743], [41.03817, -111.949675], [30.4344, -81.65603], [39.465378, -121.5588], [32.20676, -110.9775], [33.048987, -80.10543100000002], [28.575557, -80.85157099999998], [38.828923, -77.366218], [33.945634000000005, -118.251602], [29.436782, -81.16874], [39.32466, -76.65701999999997], [37.752336, -122.403022], [39.910158, -75.57015799999998], [32.788736, -96.764269], [32.790768, -96.599171], [41.643344, -122.135385], [36.4652, -86.68486], [33.771318, -118.280192], [43.12272, -76.14193], [40.904241, -75.481868], [33.945372, -118.36828], [33.902273, -118.06223], [34.239691, -117.290524], [42.998238, -83.70464399999999], [34.98452, -81.97343000000002], [33.678449, -117.846962], [30.448507, -90.983157], [45.86317, -108.300832], [37.700754, -122.020865], [33.816572, -117.83181299999998], [36.757317, -82.638566], [43.92278, -87.76505999999998], [25.828791, -80.230862], [29.665518, -95.518779], [40.71221, -73.35055], [30.295444, -97.78232], [41.819, -87.73767], [40.8428, -73.82559], [26.34587, -80.118], [39.603036, -76.481164], [40.920848, -77.850215], [37.744038, -122.40572], [42.683235, -114.514293], [34.121979, -118.340231], [37.873618, -121.253452], [33.896214, -118.187654], [25.796852, -80.354956], [25.924919, -80.155863], [27.136541, -80.28786], [38.655207, -121.390653], [37.518608, -122.261287], [38.80832, -104.8032], [42.559333, -117.876219], [33.870751, -117.87995], [27.295835, -82.530486], [38.58922800000001, -121.382928], [34.06128, -117.565434], [37.320536, -122.339043], [36.324416, -119.606861], [37.743949, -122.405578], [25.807342, -80.264246], [39.512729, -84.39172099999998], [40.101395, -75.09946], [40.98753, -73.83886], [47.36364, -114.58433], [40.904406, -74.031683], [37.902156, -121.466614], [36.935163, -120.837904], [38.774548, -76.996305], [37.867461, -121.64496], [35.19323, -89.79611], [34.134937, -117.642981], [42.40777, -88.02975], [37.94707, -78.240511], [40.376324, -76.67309399999998], [29.86778, -95.40685], [35.338158, -80.724956], [33.42946, -112.09347], [25.74832300000001, -80.289686], [28.44841, -81.28019], [47.45953400000001, -115.727823], [35.608361, -80.520984], [30.248354, -81.514874], [28.524311, -81.314084], [37.364215, -121.901491], [40.11694, -75.355384], [27.7036, -80.89527], [34.119826, -117.838639], [44.88788, -93.066087], [38.637449, -121.564928], [41.424253, -112.035762], [41.84786, -87.61738000000004], [38.853718, -76.976169], [38.902527, -77.00631], [39.98079, -75.269789], [44.861909, -93.313482], [39.36699, -85.94266999999998], [33.93077, -117.879921], [45.587127, -122.678517], [25.657368, -80.41592], [42.394343, -122.925209], [45.108693, -93.301402], [38.603087, -122.856375], [44.05997, -121.29268], [33.721871, -84.948376], [44.970346, -93.348793], [39.747676, -84.132324], [42.22694, -122.751418], [34.375925, -119.471667], [32.79136, -96.74152], [29.440021999999995, -98.507248], [29.689753000000003, -95.49277], [28.25531, -81.473949], [36.173621, -86.602143], [45.03764, -93.04206], [38.900238, -77.035135], [40.726144, -104.993369], [40.921827, -117.386187], [36.280767, -120.103468], [43.052748, -76.149963], [41.275845, -73.051979], [45.557287, -122.180939], [35.935471, -119.285366], [38.441566, -105.23618799999998], [36.86571, -76.19528000000003], [43.515156, -91.830116], [33.888963000000004, -84.255318], [25.941223, -80.306794], [25.906164, -80.19938], [41.16987, -73.19548], [38.886677, -77.013312], [39.122074, -84.83373], [40.240418, -80.205507], [27.474964, -81.875552], [39.013241, -77.144921], [33.808444, -118.297877], [39.66602, -77.16668], [35.097005, -80.940947], [38.763968, -77.184159], [48.69345, -118.65932], [38.920192, -94.764017], [35.33835999999999, -80.96287], [35.768142, -78.516456], [34.652305, -83.253834], [41.35921, -73.092635], [34.03179, -118.18978], [39.79676, -86.16507], [43.427039, -73.72162800000002], [42.263651, -75.878158], [29.715512, -95.418429], [39.03116, -76.94762], [28.490851, -81.28547900000002], [40.081799, -75.389969], [46.167121, -113.921751], [38.736625, -121.22312], [34.12145, -118.229861], [36.10432700000001, -95.922284], [39.746369, -105.460913], [45.8384, -119.694939], [32.374487, -112.86316399999998], [28.533586, -81.15015799999998], [39.019693, -76.980847], [42.64896, -122.79726], [34.033741, -117.731437], [36.771186, -119.84422], [43.674499, -95.593261], [35.37263, -80.78956], [25.78912, -80.20215], [40.040373, -74.727773], [44.20398, -121.40787], [42.15363, -87.98498000000002], [34.028231, -118.229938], [42.294393, -121.816986], [32.902497, -96.721347], [35.2391, -112.22007], [28.449935, -81.478525], [42.98072, -85.67724], [35.561031, -78.187564], [37.95603, -121.323132], [34.03247, -118.02839], [33.911801000000004, -118.370336], [38.972864, -123.037161], [33.55314, -112.14292], [36.834521, -121.770965], [39.52926, -106.21623999999998], [26.706891, -80.10373100000002], [34.133792, -118.275485], [35.255385, -80.79355799999998], [37.525377, -77.343624], [26.08409, -80.19263000000002], [41.814662, -112.354634], [25.686174, -80.39388199999998], [30.459991, -81.660679], [33.759826000000004, -117.831194], [30.31442, -91.8364], [38.292012, -85.906345], [33.85868, -118.0334], [29.937025, -90.07046], [41.088025, -100.76619], [44.86266, -93.12946], [26.74526, -81.12913], [28.394385, -81.326192], [43.12647, -77.613359], [32.329482, -90.161655], [44.965678, -93.258916], [35.29112999999999, -80.76906], [43.031156, -88.059238], [28.532683, -81.285622], [34.24689, -118.4249], [32.90972, -96.773648], [37.610397, -122.069405], [34.712238, -80.051773], [44.96602, -93.26571], [34.040762, -118.221355], [38.495985, -121.461204], [36.750363, -119.678644], [34.044825, -118.216047], [39.228591, -76.66445300000002], [45.710324, -121.496697], [44.45895, -121.97767], [28.333738, -81.48962900000002], [35.789312, -78.675038], [34.005413, -118.413277], [25.940932, -80.30678], [38.389065, -120.527285], [25.74541, -80.3197], [45.53001, -122.66523], [32.91642, -96.86083], [29.581104, -81.618714], [33.854325, -117.919847], [39.25705, -84.44238], [25.700803, -80.383825], [34.061159, -118.456639], [40.80567, -73.92144], [45.23244, -93.640133], [40.38127, -104.9936], [25.714321, -80.417582], [41.98365, -87.74942], [42.000343, -73.90901099999998], [33.987614, -118.399094], [44.81487, -117.81435], [43.638015, -95.88869], [38.64357, -121.39428], [26.18842, -80.15132], [33.767703999999995, -117.867495], [38.20958, -91.173917], [33.903807, -84.116539], [28.472337, -81.419416], [34.03568, -118.09821], [43.62437, -93.33105], [28.270043, -80.730144], [42.336126, -73.858906], [42.18265, -87.98945], [41.56546, -87.31081], [45.29026, -122.76949], [40.218662, -75.245479], [38.998033, -94.554857], [45.520429, -123.051386], [32.760932000000004, -81.25455600000002], [44.6813, -93.29361], [35.26246300000001, -80.771952], [35.137699, -119.084554], [33.929372, -118.225559], [34.044259000000004, -117.156797], [33.8981, -84.46864000000002], [37.403325, -122.04733], [39.492558, -76.237675], [32.764075, -96.856717], [45.578175, -122.129981], [37.410295, -121.911106], [40.65393, -74.007929], [38.068803, -122.538713], [39.49089, -76.23992], [33.271504, -117.441326], [25.897871, -80.180391], [25.597694, -80.37882900000002], [35.436948, -78.424369], [37.67124, -121.45855], [32.828816, -117.232995], [45.373696, -118.300834], [32.856026, -96.648524], [40.797682, -76.12102800000002], [34.050203, -117.303675], [38.357173, -81.631853], [42.49334, -83.30003], [28.568395, -81.28406899999997], [33.590481, -117.514152], [47.455626, -115.695229], [33.882974, -79.12385400000002], [36.8076, -76.43070999999998], [27.886356, -82.717564], [29.15246, -81.07381], [37.470513, -77.428411], [44.951023, -93.081558], [38.223776, -121.29082], [33.912908, -118.140823], [38.89408, -77.000228], [40.67282, -89.66948000000002], [33.559343, -117.672864], [33.86255, -117.259498], [25.71377, -80.382491], [40.305415, -78.82909699999998], [44.86207, -93.30854], [40.13195, -75.27829], [45.468575, -122.565474], [34.991639, -81.917626], [34.066720000000004, -117.44823], [25.471403, -80.468987], [28.392957, -81.371077], [37.543568, -122.020399], [36.776744, -76.286112], [32.968599, -96.821564], [30.629408, -81.56939], [40.122111, -75.18749], [38.54359, -121.509186], [33.66966, -112.09245], [28.632979, -81.387404], [41.654318, -93.561408], [40.236677, -77.125599], [42.90953, -123.26312], [38.405876, -75.109157], [40.75798, -74.20491], [34.531936, -82.971733], [38.568531, -121.469146], [41.12592, -74.165867], [44.64206, -123.11305], [34.453499, -119.813877], [42.961043, -91.334158], [36.161909, -86.793481], [40.739976, -73.81878], [38.717697, -90.29898], [36.05999, -79.60855], [29.691525, -95.603635], [43.66246, -116.661396], [38.354195, -81.733414], [33.50499, -112.11257], [39.17363, -76.79651], [39.035271, -94.500135], [39.228801, -120.761718], [38.61393, -90.22478], [38.171879, -122.196779], [44.89047100000001, -93.399047], [41.475901, -73.819058], [36.638277, -119.697364], [25.626241, -80.342207], [44.64709000000001, -121.94638], [34.11159, -118.24707], [30.46913, -91.16666], [33.839128, -117.83381], [33.461791, -112.01856399999998], [30.622255, -88.13047399999998], [32.917663, -96.427798], [44.8827, -93.01854], [38.229722, -122.116944], [25.924419, -80.310841], [43.013867, -74.928442], [25.812432, -80.223122], [37.834367, -76.802392], [25.753258, -80.388725], [25.898658, -80.20197900000002], [36.084712, -78.764065], [33.814206, -118.177962], [33.774052000000005, -117.905895], [30.191789, -81.702861], [44.108285, -93.667454], [38.45267, -121.310273], [33.872862, -118.285705], [35.15867, -80.89138], [36.17138, -86.768978], [38.802129, -77.051523], [34.23314, -79.79590999999998], [40.560264, -74.321613], [34.279799, -79.846503], [30.349002, -97.676512], [37.537172, -77.27833100000002], [28.746101, -81.36708], [37.57181, -77.38228000000002], [39.383624, -76.75573100000003], [33.96457, -117.32573], [34.001853999999994, -117.834566], [35.751379, -78.617114], [34.548203, -82.69653000000002], [40.110193, -76.829094], [33.879923, -117.562432], [29.176422, -81.824313], [34.03818, -81.10499], [35.137598, -90.024311], [29.78476, -95.66375], [27.842435, -82.699937], [30.521661, -81.63565899999998], [25.72655, -80.415497], [37.373095, -121.918255], [34.02301, -117.33619], [36.666061, -121.814789], [35.782009, -80.254837], [36.696289, -119.763711], [35.09171, -80.87527], [33.71715, -117.79135], [25.943731, -80.357598], [34.031004, -118.433207], [32.71633, -86.4836], [36.044645, -86.657296], [39.802168, -86.089221], [27.928416, -82.73053], [45.649911, -120.9375], [35.596082, -80.86028], [27.290478000000004, -80.420211], [36.533214, -119.575921], [44.966023, -93.265651], [38.56791, -121.5122], [36.108852, -95.975701], [33.992504, -81.2985], [34.308174, -85.172938], [38.643078, -121.526392], [42.700873, -84.54803000000003], [25.853661, -80.233935], [42.186003, -79.96077700000002], [35.44119699999999, -119.090526], [27.930647, -82.352517], [34.065632, -118.164026], [40.32968, -76.77186], [28.003586, -82.764724], [36.78923, -76.22317], [38.23289000000001, -122.61752], [36.5709, -121.91259], [34.15436500000001, -118.287615], [25.748801, -80.335788], [43.863401, -92.361929], [38.537488, -121.73886], [33.871908000000005, -117.687093], [34.071849, -117.946968], [36.772325, -119.75446200000002], [29.98881, -90.058559], [37.17803, -76.55326], [40.54582, -105.07698], [38.549047, -122.711094], [42.969981, -75.50138100000002], [34.326328000000004, -118.504318], [33.957291, -84.119943], [38.347532, -122.713149], [44.08002000000001, -121.30493], [40.130687, -75.531154], [32.427822, -81.00841199999998], [34.1607, -118.38095], [46.780936, -114.092849], [28.409967, -81.391374], [40.76306, -74.01003], [34.78322, -82.445183], [34.027332, -118.21118], [38.503323, -121.423862], [32.429499, -110.96568700000002], [34.566925, -80.59129], [36.14122, -86.73161999999998], [33.82615, -118.20504], [42.044301, -87.870029], [39.760316, -105.005868], [25.89642000000001, -80.170574], [45.48223, -122.5661], [30.244449, -89.76485600000002], [40.743586, -74.122362], [33.800373, -118.083476], [42.49573, -83.36595], [27.821422, -82.794021], [45.786644, -122.871878], [34.033908000000004, -118.221436], [38.560203, -121.47973600000002], [38.39571, -122.35684], [35.104198, -80.989193], [42.36147, -83.07294], [38.022542, -78.545167], [37.061412, -120.013497], [44.8905, -93.29899], [34.35929, -118.55393], [40.689908, -111.95199], [33.710252000000004, -117.782227], [33.986271, -117.870918], [32.780328000000004, -96.783395], [45.474393, -122.640478], [26.152793, -80.21941], [32.903490000000005, -96.897611], [38.79247, -121.72707], [36.307554, -119.71421399999998], [36.769538, -80.804526], [37.504815, -77.183309], [30.628691, -84.886647], [33.695502000000005, -117.934326], [34.155567, -118.431243], [33.05247, -117.28858], [41.81119, -87.63034], [32.90902, -96.89202], [38.23627000000001, -85.63356], [33.570083000000004, -84.327706], [39.865231, -75.35629300000002], [43.166487, -73.71417199999998], [30.42168400000001, -84.30233299999998], [43.17283, -83.76854], [36.414479, -84.300267], [37.778081, -122.401165], [39.492424, -76.237884], [34.029999, -117.712369], [37.837998, -122.296702], [28.610352, -81.284438], [34.001031, -81.781736], [34.049482, -118.090547], [25.903343, -80.21027], [37.784291, -122.393612], [43.029007, -85.664783], [25.699599, -80.382101], [41.20543, -111.99412], [35.403159, -119.045501], [39.03982, -84.609757], [36.875085, -76.433272], [32.85842, -96.65275], [42.841062, -83.736613], [30.189236, -97.76785], [27.922924, -82.340153], [28.40251, -80.70554], [39.92445, -105.1112], [25.684798, -80.431106], [33.40783, -111.54674], [35.778292, -79.242734], [38.664029, -121.268874], [33.845705, -117.958934], [28.34743, -81.648059], [39.091555, -121.546997], [32.760444, -117.18685], [39.3815, -76.73791], [40.026416, -76.32724300000002], [47.48498, -121.793392], [30.559847, -81.9215], [42.39532, -82.98926], [42.359494, -87.864399], [40.822285, -73.931057], [27.773512, -82.635587], [34.080711, -117.628468], [41.22365900000001, -96.01612], [42.24016, -87.90572], [32.988671000000004, -80.099118], [37.99259, -122.03966], [47.230507, -122.445444], [25.687736, -80.36586899999998], [33.774649, -84.57328199999998], [36.19067, -83.89131], [37.59585, -122.225801], [40.013957, -79.071066], [37.331287, -120.68613899999998], [33.868977, -117.676054], [38.636805, -121.28413799999998], [33.85803, -117.409667], [41.660016, -87.516971], [40.713428, -74.272849], [33.982898, -118.14291], [37.42229, -122.22618], [37.366138, -93.337117], [33.730008000000005, -117.396477], [35.418526, -119.06035], [45.53144, -122.6869], [37.815473, -121.993451], [30.01086500000001, -82.605809], [33.7789, -117.8801], [37.700711, -121.800602], [27.138355, -82.460654], [34.677752000000005, -84.627111], [34.06742, -117.418241], [32.649382, -117.103582], [28.552176, -81.474654], [33.548681, -81.67848199999997], [29.010749, -82.564494], [35.6035, -97.63854], [43.009219, -89.02277], [30.316471000000003, -97.707636], [25.940383, -80.191086], [33.944968, -118.304649], [34.990179, -85.288398], [33.867152000000004, -117.7237], [36.09705, -80.01157099999998], [39.13297, -104.86343], [44.731838, -93.127725], [36.217197, -121.124879], [27.061079, -82.418021], [35.116292, -85.302097], [38.66146, -120.942212], [37.656055, -121.122451], [32.29121, -90.167444], [33.968144, -118.167655], [39.35926, -78.04930999999998], [32.847193, -117.267404], [32.669725, -96.93698], [38.564468, -121.339734], [33.907312, -81.223177], [35.10405, -106.70975], [40.185342, -77.236147], [33.87361, -118.2361], [38.727302, -121.80667], [34.841599, -80.810565], [29.83857, -95.35666], [25.856181, -80.20943], [45.05463, -93.18787], [30.42806, -90.07964], [37.741854, -121.575307], [33.89498, -117.49931], [34.165143, -118.475551], [37.410349, -122.074596], [40.344877, -79.889979], [34.109319, -117.528294], [35.81990300000001, -114.552201], [38.865817, -77.056039], [28.60451, -81.30752], [30.349487, -97.523562], [36.412454, -121.32036200000002], [34.14775, -118.22874], [35.438059, -120.636418], [33.929721, -118.225234], [43.00015, -89.19603000000002], [36.04735, -86.611482], [33.776553, -117.840245], [29.547542, -82.903296], [39.20425, -76.55450400000002], [41.415478, -73.276434], [27.374846999999995, -82.530964], [37.32451500000001, -122.399872], [40.097946, -75.197792], [42.691283, -73.84120300000002], [34.0726, -118.05841], [29.73106, -95.357605], [27.007195, -82.13407], [33.927937, -118.271995], [27.803067, -82.70412900000002], [37.64188400000001, -77.58565300000002], [36.065572, -86.679864], [47.83739, -122.1241], [42.618795, -73.691006], [42.6931, -73.37212], [37.707907, -122.122704], [36.914878, -121.678553], [40.741689, -121.470117], [38.98826, -77.095138], [30.43846, -97.654078], [36.815947, -80.85342], [45.553275, -122.678543], [38.98903, -76.889587], [36.949986, -76.265423], [25.867056, -80.341088], [25.925301, -80.271612], [28.502236, -80.838185], [38.160677, -121.691835], [41.217995, -77.223365], [38.060106, -77.504028], [34.03768, -117.805437], [29.790566, -95.563289], [35.56071, -114.37373999999998], [25.770611, -80.298159], [41.764052, -72.693687], [42.85189, -117.599502], [40.61427, -74.311543], [34.004262, -117.830711], [25.944485, -80.293541], [44.038256, -123.04813], [32.725878, -117.073091], [25.653475, -80.387222], [35.25327, -82.217742], [33.834142, -84.192719], [39.711939, -121.798092], [35.33218, -119.01757], [27.599798, -82.292764], [30.367725, -81.66896], [27.065923, -82.429115], [32.794259999999994, -97.21214], [40.987706, -73.67698299999998], [45.036274, -93.076955], [38.39571, -122.35684], [29.830069, -95.468548], [41.18604000000001, -79.39057], [39.379588, -76.520067], [35.812329, -94.191702], [36.81375300000001, -76.10001], [46.913304, -112.116485], [32.374509, -90.148145], [41.147137, -112.025576], [33.46249, -112.24957], [38.66387, -121.35723], [27.91663, -82.789529], [27.996509000000003, -82.564835], [33.85907, -118.28964], [44.082137, -123.103319], [39.244689, -94.453172], [25.95802, -80.17108], [33.854445, -117.796665], [41.06209000000001, -81.53175999999998], [40.355924, -122.326308], [40.779842, -77.75089200000002], [35.750306, -78.612047], [35.47708, -97.51418], [32.176885, -110.964343], [33.758962, -118.021745], [32.837706, -97.096499], [32.2216, -110.90089], [30.266047, -97.768126], [30.449697, -90.978226], [30.320087, -81.525839], [30.42497100000001, -91.157925], [40.73444600000001, -74.127868], [40.775, -111.94908], [45.650864, -122.6621], [43.681269, -116.68957], [36.283324, -119.492164], [37.188063, -93.262176], [32.705825, -96.848625], [36.325496, -119.406489], [33.934020000000004, -118.30032], [32.954192, -117.244545], [25.704115, -80.28534499999998], [30.426823, -91.16825], [38.801082, -77.523125], [40.245624, -75.538413], [25.924655, -80.315304], [41.49309, -94.294297], [39.468383, -77.59530600000002], [37.190836, -121.993241], [30.311182, -81.52399399999999], [32.792551, -96.798084], [32.757261, -117.125764], [34.13387, -118.35445], [43.83513, -92.5513], [43.905283, -92.254611], [28.215523, -82.738135], [29.674702000000003, -95.469778], [39.26762, -121.02791], [37.908665, -122.320973], [40.146472, -123.78517], [27.388443, -82.458155], [44.137706, -93.249192], [33.974652, -118.280597], [43.613146, -119.024629], [34.824954, -77.997146], [33.46278, -112.16351], [33.870615, -117.54466], [34.140105, -117.316904], [39.83181, -75.42732], [41.71429000000001, -72.64089], [32.78096, -117.084056], [32.83705, -97.06782], [27.29715, -82.451534], [39.545474, -107.661732], [34.272955, -118.043364], [36.046348, -86.713363], [26.93961, -80.15177], [40.54769, -111.9387], [39.78375, -75.10207], [45.648048, -93.622939], [26.55803, -81.661653], [33.415264, -117.158203], [38.912302, -76.933945], [42.87289000000001, -83.59799], [25.522534, -80.494224], [35.144625, -80.927749], [40.620294, -86.868227], [30.412972, -84.081029], [30.014347, -95.346582], [28.52958, -81.55829], [25.9272, -80.22428000000002], [41.98874, -88.14593], [29.675314, -95.570514], [34.489447, -118.137392], [40.32933, -111.73707], [45.887318, -119.297622], [42.320571, -88.004511], [43.16732, -77.68315], [38.90991500000001, -76.061836], [25.784912, -80.202173], [39.09902, -94.61463], [38.92326, -76.93093], [36.150716, -78.721772], [44.94899, -92.95906], [25.902458, -80.29225100000002], [40.24944, -82.85848], [33.883026, -118.350166], [39.57105, -104.8733], [34.030232, -117.672974], [35.29503, -80.74481], [35.81549000000001, -78.70524], [38.707676, -77.118728], [33.684009, -84.310097], [34.23422, -118.28383], [41.40204, -73.46530200000002], [34.550275, -80.912224], [32.720326, -96.82746], [39.92627, -80.40346], [43.65068400000001, -123.903279], [33.939302000000005, -117.208008], [37.804373, -77.461134], [38.710508, -121.37305], [34.042975, -118.217073], [35.296105, -118.91433], [42.87130300000001, -78.84716], [45.798751, -119.390734], [37.743949, -122.405578], [40.76653, -73.83825], [27.903095, -82.636016], [44.08745800000001, -123.063966], [43.00838, -77.43848], [26.466611, -80.088948], [45.4666, -122.78609], [28.430766, -81.447812], [25.877517, -80.16834899999998], [32.658094, -96.887108], [27.791902, -82.336451], [42.40631, -82.95625], [34.074549, -83.569561], [25.748935, -80.33579399999998], [33.7309, -117.135643], [35.29294, -80.7276], [37.559819, -122.034685], [47.733987, -122.3168], [25.810402, -80.155067], [33.866877, -117.261393], [44.379866, -121.653725], [33.377553000000006, -87.699738], [28.431152, -81.40468], [40.210055, -74.75571], [42.99682, -85.67583], [34.023348, -117.811733], [37.492237, -76.99715400000002], [28.517489, -81.75070600000002], [30.175784000000004, -93.589128], [44.179447, -117.135361], [45.205122, -93.396764], [42.030355, -93.570746], [32.723411, -117.158204], [27.868474, -82.3267], [25.627116, -80.3418], [38.6187, -90.18564], [42.236884, -83.739413], [45.54241, -122.49577], [45.588144, -120.71375], [25.808789, -80.25039100000002], [39.241408, -76.69374599999998], [36.998916, -120.104502], [40.165469, -76.592885], [32.13384, -110.996276], [33.82195, -118.20705], [38.919079, -76.933051], [34.034823, -118.268755], [25.807486, -80.231981], [40.171318, -76.12368599999998], [37.207506, -121.720243], [33.640898, -84.40039499999997], [39.13296500000001, -122.870018], [36.271694, -82.928463], [38.710924, -77.14591999999998], [38.562892, -121.642074], [37.215004, -121.988183], [28.5775, -81.47609], [40.07949, -75.16765], [28.445563, -81.364985], [44.120022, -117.069641], [29.651535, -95.288688], [33.56082, -112.25752], [45.18934, -93.5435], [41.234393, -73.03058], [32.75273, -117.123954], [35.225044, -80.809629], [44.776035, -121.292914], [26.463624, -81.83073], [40.516752, -74.300032], [37.698104, -122.148518], [33.967849, -118.081926], [40.852902, -73.959491], [44.297486, -95.755194], [44.37767, -90.11133], [41.73585, -93.57775], [42.24876, -121.79466], [25.575353, -80.372854], [25.826213, -80.33719599999998], [40.706225, -74.00279], [29.792318, -95.06048], [38.496052, -121.441532], [33.234299, -87.57668000000002], [28.415111, -81.422667], [33.945839, -117.069246], [29.746764, -95.366764], [37.38426, -121.97141], [42.38093, -83.091562], [39.95704, -76.74523], [38.622661, -122.878292], [25.926599, -80.276822], [32.825989, -117.117421], [27.893697, -82.67403900000002], [28.17310100000001, -82.749882], [34.278490999999995, -111.164098], [29.980464, -90.084559], [34.046147999999995, -118.269335], [25.941577, -80.301835], [33.49085, -112.04383], [33.4477, -86.81761999999998], [32.394604, -93.814481], [34.261111, -117.44993], [40.846708, -73.93191800000002], [40.901058, -124.085093], [33.876162, -118.159159], [39.757922, -75.126925], [39.01536, -77.12218], [33.854225, -117.79065], [25.826295, -80.324116], [34.002738, -117.980606], [40.210295, -79.578142], [31.776695, -89.679749], [42.433112, -82.922735], [41.68811, -83.64446], [41.770668, -72.677174], [34.029389, -118.399304], [38.778142, -90.509403], [37.69933, -121.93086], [45.060959, -123.693321], [33.182114, -117.322332], [39.00117, -77.517904], [34.225648, -117.410644], [44.970592, -93.346077], [36.144349, -86.693561], [39.089488, -94.591251], [35.152745, -81.24276400000002], [30.41447, -91.10986], [39.449351, -74.649589], [35.295886, -118.982584], [36.152583, -86.63450300000002], [40.139787, -76.589442], [41.206366, -97.061895], [35.153785, -80.85018000000002], [26.588518, -81.894079], [44.824218, -123.017452], [44.94899, -92.95906], [34.145109999999995, -118.36818999999998], [32.79385, -96.70278], [35.172964, -118.914577], [32.75268, -117.12393], [25.748149, -80.314705], [33.852943, -118.279806], [35.033286, -85.313594], [32.67329, -117.08263999999998], [37.621406, -121.0442], [33.97296, -118.234443], [37.813809, -122.361301], [41.01613, -92.6396], [40.63666, -74.64539], [38.902924, -77.02216700000002], [33.565677, -111.92596], [38.907104, -94.523996], [32.91722, -96.76663], [38.610487, -121.386792], [33.581031, -112.237046], [32.354189, -89.61036], [26.1397, -80.34344], [45.585819, -118.600427], [41.29194, -72.44800000000002], [29.95678, -90.071843], [34.293276, -118.84189], [33.007271, -96.826372], [32.664, -97.33495], [32.419783, -93.721554], [45.273801, -122.774849], [40.71454, -73.952742], [25.884911, -80.204549], [42.003658, -88.133809], [33.776352, -117.830734], [35.372456, -118.930768], [39.982433, -75.920813], [28.66529, -80.9399], [34.08262, -118.22663], [34.391808000000005, -84.406778], [28.631076, -81.45976800000003], [33.917198, -117.437915], [44.93209, -123.09317], [28.443306, -81.547772], [33.779929, -80.929186], [27.864191, -82.384938], [44.93774000000001, -93.34941], [39.54569, -107.661684], [25.899894, -80.175701], [34.484008, -82.563068], [45.37216, -93.8441], [28.55420100000001, -81.364453], [28.899894, -82.420014], [32.945433, -96.905153], [44.3264, -94.57365], [39.395889, -121.084045], [40.303193, -79.506231], [25.847364, -80.387467], [39.632559, -76.672201], [42.228362, -83.6853], [33.758044, -117.972399], [36.39319, -78.33849000000002], [45.216068, -93.592818], [37.77768, -121.265984], [44.79633, -122.72648], [38.235157, -122.461069], [37.84422, -81.232835], [44.790605, -95.889691], [41.244299, -111.96993700000002], [34.675228999999995, -79.12759], [39.683185, -75.587725], [26.045618, -80.162849], [35.030561, -85.31519499999997], [34.188524, -79.851196], [39.77293, -86.03019], [25.933656, -80.350993], [40.10914, -82.96761], [40.833573, -73.86121800000002], [41.95496, -88.01686], [36.07239600000001, -79.267827], [40.783342, -74.149163], [28.695956, -81.38718], [40.21681, -76.07718], [40.9872, -73.68137], [36.184188, -86.79809399999998], [34.076832, -117.817844], [37.050314, -119.375225], [33.66767, -84.32604], [29.709082, -95.370783], [45.285848, -121.672199], [44.64527, -93.29593], [29.93888, -95.39622], [28.237706, -80.72049], [25.830912, -80.250241], [28.55221400000001, -81.458822], [25.945115, -80.205365], [25.868259, -80.24149200000002], [32.9951, -96.95028], [36.758719, -76.341215], [29.705734000000003, -95.501176], [40.61916, -111.28068], [34.03985, -118.051691], [40.64418, -74.01821], [33.99777, -117.3682], [41.09502, -73.93483], [34.060266, -118.248951], [38.877342, -77.275439], [37.397514, -122.041722], [43.1777, -76.0695], [29.998759000000003, -81.600426], [34.218056, -119.055], [35.216763, -80.88379], [28.843964, -82.090536], [39.817943, -75.45061700000002], [32.494583, -93.772194], [38.55195, -90.43022], [34.005507, -117.248498], [35.81986, -78.742049], [33.76605, -117.954904], [40.28734, -111.72578], [27.9416, -82.54824], [33.876672, -118.10832], [34.06371, -117.28439], [38.803368, -112.885804], [38.247592, -122.16475], [33.996311, -117.88848], [35.087306, -118.154763], [38.672794, -77.262486], [33.414741, -81.84227], [40.46463, -74.40524], [33.573215000000005, -112.064119], [33.414320000000004, -84.16529], [28.530851, -81.50881600000002], [25.94427, -80.205343], [43.12379, -77.63148000000002], [42.42989, -87.82560699999998], [33.536769, -82.00187199999998], [36.033475, -95.993729], [40.36313, -111.56036], [35.116456, -111.084898], [37.715206, -122.172632], [40.25648, -74.69456], [26.911321, -81.275836], [40.520558, -76.095734], [42.54766, -79.11195], [36.775627, -76.372159], [29.69173, -95.28362], [39.329309, -120.28068600000002], [30.175054, -97.885304], [40.152461, -75.266297], [34.06446, -118.00388], [29.821203000000004, -95.517422], [33.827290000000005, -118.08229], [47.234891, -122.493299], [42.831327, -78.852485], [35.91019, -78.73363], [30.4525, -91.076952], [42.95062, -78.70363], [38.934531, -77.227364], [30.28585, -97.68263], [39.643574, -86.074115], [34.278212, -118.860708], [38.827719, -77.633481], [29.602955, -95.209442], [38.788953, -77.328594], [41.7149, -87.63618000000002], [34.968534000000005, -82.030971], [43.619458, -116.287469], [37.31665, -121.95624], [37.25422, -121.875575], [30.474717, -91.117302], [33.857886, -118.286336], [35.807136, -90.663653], [36.76556400000001, -76.542917], [25.698141, -80.38216800000002], [44.973217, -93.287567], [39.07632, -112.28001], [40.064217, -76.29818], [39.549934, -106.137205], [37.170179, -121.989759], [40.767711, -74.065253], [40.891188, -111.896277], [25.82432, -80.20647], [28.53917, -81.28584000000002], [45.013179, -123.874746], [32.92524, -96.79685], [41.554371, -72.812499], [40.000759, -111.483882], [25.811359, -80.254547], [40.71167, -74.15718000000003], [37.670436, -121.453975], [34.067739, -80.922089], [41.57197, -87.285105], [40.19861, -110.890284], [34.066191, -117.479175], [40.093817, -76.304214], [41.06502, -75.353791], [27.93765800000001, -82.288152], [38.070519, -75.492311], [25.878423, -80.355039], [30.31393, -81.658672], [45.785227, -123.44181299999998], [36.963297, -81.087416], [33.898509999999995, -118.255652], [41.87238, -71.39437], [44.862796, -93.129128], [39.446164, -77.391525], [40.738605, -74.216961], [25.851783, -80.235052], [45.70798, -121.502964], [34.134725, -117.627793], [40.716936, -73.830287], [30.165099, -82.681206], [29.433971000000003, -98.395475], [37.853811, -80.508059], [41.79733, -71.40356], [30.790646, -87.204043], [33.9784, -118.256424], [39.138761, -76.812318], [32.67503, -97.16668], [33.865966, -117.741223], [32.838721, -96.777445], [43.49599, -123.48838], [42.05458, -87.84035], [37.248169, -121.83128700000002], [25.794396, -80.236008], [32.936238, -97.098062], [29.89631, -95.41237], [36.561628000000006, -119.70056], [43.1154, -76.00332], [43.780005, -118.023081], [38.055938, -122.22471000000002], [33.930997, -118.280059], [39.553285, -122.132114], [34.816004, -82.112236], [34.080458, -81.155335], [34.07196, -118.26697], [43.173586, -121.78658], [33.385670000000005, -111.93106], [38.564736, -121.497739], [30.486805, -81.642702], [35.607314, -78.564235], [27.368462, -82.212738], [37.6536, -121.898077], [39.100629, -77.527304], [32.444720000000004, -93.729804], [34.030516, -117.658253], [34.428284000000005, -119.73741], [38.779058, -75.88040699999998], [41.803847, -72.594363], [27.429273, -82.546724], [37.48768, -122.20653], [40.738667, -73.740137], [30.623742, -88.127235], [30.383338, -97.723678], [34.459975, -80.260182], [33.98323, -84.34119], [39.11782, -78.19333], [39.020374, -77.01405], [35.780201, -80.863518], [28.461385, -81.463918], [43.193774, -77.591102], [39.09383, -94.88166], [45.083395, -93.402789], [33.484636, -111.934757], [37.675863, -79.498111], [44.15259, -93.82111], [32.894934, -96.81974], [38.880861, -77.221366], [35.202995, -80.756765], [36.41653400000001, -119.804116], [41.932915, -83.35840999999998], [47.727348, -122.345008], [40.995646, -73.67939100000002], [33.155994, -87.54885], [32.81519, -79.95424], [29.725801, -81.945482], [28.19335, -82.63494], [33.87937, -84.0121], [33.868204, -117.728317], [36.176487, -120.848718], [29.782825, -95.335829], [48.392923, -109.922391], [36.771589, -76.25745], [32.1395, -110.864944], [35.075035, -81.950778], [33.138538, -117.140653], [29.265406, -82.192693], [37.789081, -120.864506], [27.33475300000001, -82.545351], [41.940634, -88.15048399999998], [38.67988, -121.33941000000002], [44.95984, -93.34541], [34.008842, -118.158573], [45.53222, -122.56464], [42.98589000000001, -83.72968], [38.991433, -76.88669], [28.553201, -81.368827], [33.928236, -118.254273], [26.112661, -80.137025], [28.612421, -80.85108100000002], [30.31292800000001, -97.717265], [33.997353000000004, -117.967597], [43.695032, -116.4061], [33.876290000000004, -118.09592], [26.49525, -81.84937], [35.20748, -119.010246], [33.927186, -118.178333], [40.62498, -74.01916999999997], [39.78365, -104.77222], [30.405374, -91.098295], [40.639613, -76.912995], [34.0303, -117.65524], [33.488177, -81.9235], [33.912804, -84.35435600000002], [33.876909999999995, -117.601959], [37.5103, -77.47465], [44.889611, -93.000866], [47.515021, -114.118495], [25.671042, -80.41116600000002], [40.302153, -75.148533], [32.27475, -89.94526], [30.352212, -97.748654], [44.95182, -93.14649], [33.008472999999995, -80.107961], [36.959665, -76.410912], [37.080472, -121.607758], [39.78413, -105.11282], [28.280622, -82.67661700000002], [41.14251, -73.42695], [25.684287, -80.446871], [40.697248, -73.813989], [25.49449, -80.41805], [30.594344, -91.184606], [42.364328, -87.855689], [34.872101, -118.229246], [33.973743, -117.373143], [37.65166, -122.098664], [25.702151, -80.336387], [33.861897, -117.773732], [27.322863, -82.50200500000003], [39.63904, -75.09788], [25.928679, -80.20922900000002], [45.9104, -123.69463], [40.241127, -75.596259], [27.109137, -81.794802], [45.02316, -93.08984], [42.306043, -88.00451]],\n",
              "                {&quot;blur&quot;: 15, &quot;maxZoom&quot;: 18, &quot;minOpacity&quot;: 0.5, &quot;radius&quot;: 25}\n",
              "            ).addTo(map_557914ff05cb08515af1eb5669d511cd);\n",
              "        \n",
              "&lt;/script&gt;\" style=\"position:absolute;width:100%;height:100%;left:0;top:0;border:none !important;\" allowfullscreen webkitallowfullscreen mozallowfullscreen></iframe></div></div>"
            ]
          },
          "metadata": {},
          "execution_count": 96
        }
      ]
    },
    {
      "cell_type": "markdown",
      "source": [
        "it seems that most accidents happening in the coast areas as compare to other areas."
      ],
      "metadata": {
        "id": "4NoQyGDZEyGW"
      }
    },
    {
      "cell_type": "code",
      "source": [
        "df['State'].unique()"
      ],
      "metadata": {
        "colab": {
          "base_uri": "https://localhost:8080/"
        },
        "id": "HaQRDs2hNkFQ",
        "outputId": "c5f3b526-b19c-4d06-aaa1-ac5d6fb85652"
      },
      "execution_count": 107,
      "outputs": [
        {
          "output_type": "execute_result",
          "data": {
            "text/plain": [
              "array(['OH', 'IN', 'KY', 'WV', 'MI', 'PA', 'CA', 'NV', 'MN', 'TX', 'MO',\n",
              "       'CO', 'OK', 'LA', 'KS', 'WI', 'IA', 'MS', 'NE', 'ND', 'WY', 'SD',\n",
              "       'MT', 'NM', 'AR', 'IL', 'NJ', 'GA', 'FL', 'NY', 'CT', 'RI', 'SC',\n",
              "       'NC', 'MD', 'MA', 'TN', 'VA', 'DE', 'DC', 'ME', 'AL', 'NH', 'VT',\n",
              "       'AZ', 'UT', 'ID', 'OR', 'WA'], dtype=object)"
            ]
          },
          "metadata": {},
          "execution_count": 107
        }
      ]
    },
    {
      "cell_type": "code",
      "source": [
        "state=df['State'].value_counts(ascending=False)\n",
        "state"
      ],
      "metadata": {
        "colab": {
          "base_uri": "https://localhost:8080/"
        },
        "id": "WW1pE-RMQaVU",
        "outputId": "7edca8ff-aec1-43b1-f37a-ef30df15f3b8"
      },
      "execution_count": 112,
      "outputs": [
        {
          "output_type": "execute_result",
          "data": {
            "text/plain": [
              "CA    795868\n",
              "FL    401388\n",
              "TX    149037\n",
              "OR    126341\n",
              "VA    113535\n",
              "NY    108049\n",
              "PA     99975\n",
              "MN     97185\n",
              "NC     91362\n",
              "SC     89216\n",
              "MD     65085\n",
              "AZ     56504\n",
              "NJ     52902\n",
              "TN     52613\n",
              "UT     49193\n",
              "LA     47232\n",
              "IL     47105\n",
              "MI     43843\n",
              "GA     40086\n",
              "WA     32554\n",
              "CT     29762\n",
              "MO     29633\n",
              "CO     25340\n",
              "OH     24409\n",
              "IN     20850\n",
              "AL     19322\n",
              "MT     15964\n",
              "AR     10935\n",
              "IA      9607\n",
              "DC      9133\n",
              "KS      9033\n",
              "OK      8806\n",
              "ID      8544\n",
              "WI      7896\n",
              "WV      7632\n",
              "KY      6638\n",
              "MA      6392\n",
              "NV      6197\n",
              "MS      5320\n",
              "DE      4842\n",
              "RI      4451\n",
              "NH      3866\n",
              "NE      3320\n",
              "NM      2370\n",
              "ND      2258\n",
              "ME      2193\n",
              "WY       990\n",
              "VT       365\n",
              "SD       201\n",
              "Name: State, dtype: int64"
            ]
          },
          "metadata": {},
          "execution_count": 112
        }
      ]
    },
    {
      "cell_type": "code",
      "source": [
        "state[:5]      # top 5 accident prone states"
      ],
      "metadata": {
        "colab": {
          "base_uri": "https://localhost:8080/"
        },
        "id": "7i3F2enUQxGr",
        "outputId": "a0269ff4-a3ca-4bd6-e72a-6bcf4b15ef05"
      },
      "execution_count": 114,
      "outputs": [
        {
          "output_type": "execute_result",
          "data": {
            "text/plain": [
              "CA    795868\n",
              "FL    401388\n",
              "TX    149037\n",
              "OR    126341\n",
              "VA    113535\n",
              "NY    108049\n",
              "Name: State, dtype: int64"
            ]
          },
          "metadata": {},
          "execution_count": 114
        }
      ]
    },
    {
      "cell_type": "code",
      "source": [
        "df.columns"
      ],
      "metadata": {
        "id": "iu7RmKg08S7H",
        "colab": {
          "base_uri": "https://localhost:8080/"
        },
        "outputId": "c77352ba-8b67-4026-e509-e59007ea77b3"
      },
      "execution_count": 136,
      "outputs": [
        {
          "output_type": "execute_result",
          "data": {
            "text/plain": [
              "Index(['ID', 'Severity', 'Start_Time', 'End_Time', 'Start_Lat', 'Start_Lng',\n",
              "       'End_Lat', 'End_Lng', 'Distance(mi)', 'Description', 'Number', 'Street',\n",
              "       'Side', 'City', 'County', 'State', 'Zipcode', 'Country', 'Timezone',\n",
              "       'Airport_Code', 'Weather_Timestamp', 'Temperature(F)', 'Wind_Chill(F)',\n",
              "       'Humidity(%)', 'Pressure(in)', 'Visibility(mi)', 'Wind_Direction',\n",
              "       'Wind_Speed(mph)', 'Precipitation(in)', 'Weather_Condition', 'Amenity',\n",
              "       'Bump', 'Crossing', 'Give_Way', 'Junction', 'No_Exit', 'Railway',\n",
              "       'Roundabout', 'Station', 'Stop', 'Traffic_Calming', 'Traffic_Signal',\n",
              "       'Turning_Loop', 'Sunrise_Sunset', 'Civil_Twilight', 'Nautical_Twilight',\n",
              "       'Astronomical_Twilight'],\n",
              "      dtype='object')"
            ]
          },
          "metadata": {},
          "execution_count": 136
        }
      ]
    },
    {
      "cell_type": "code",
      "source": [
        "df['Temperature(F)']"
      ],
      "metadata": {
        "id": "VFtY12Bd8TT7",
        "colab": {
          "base_uri": "https://localhost:8080/"
        },
        "outputId": "36d65afd-4fa4-4638-cc10-ce65678f7e03"
      },
      "execution_count": 141,
      "outputs": [
        {
          "output_type": "execute_result",
          "data": {
            "text/plain": [
              "0          42.1\n",
              "1          36.9\n",
              "2          36.0\n",
              "3          39.0\n",
              "4          37.0\n",
              "           ... \n",
              "2845337    86.0\n",
              "2845338    70.0\n",
              "2845339    73.0\n",
              "2845340    71.0\n",
              "2845341    79.0\n",
              "Name: Temperature(F), Length: 2845342, dtype: float64"
            ]
          },
          "metadata": {},
          "execution_count": 141
        }
      ]
    },
    {
      "cell_type": "code",
      "source": [
        "sns.histplot(df['Temperature(F)'])"
      ],
      "metadata": {
        "id": "Irb_82qo8T2Y",
        "colab": {
          "base_uri": "https://localhost:8080/",
          "height": 296
        },
        "outputId": "b8be1717-5f6e-496a-9eb5-d0b4db581c1e"
      },
      "execution_count": 142,
      "outputs": [
        {
          "output_type": "execute_result",
          "data": {
            "text/plain": [
              "<matplotlib.axes._subplots.AxesSubplot at 0x7f21eb2bca50>"
            ]
          },
          "metadata": {},
          "execution_count": 142
        },
        {
          "output_type": "display_data",
          "data": {
            "text/plain": [
              "<Figure size 432x288 with 1 Axes>"
            ],
            "image/png": "[encoded data removed]"
          },
          "metadata": {
            "needs_background": "light"
          }
        }
      ]
    },
    {
      "cell_type": "code",
      "source": [
        "sns.distplot(df['Temperature(F)'])"
      ],
      "metadata": {
        "id": "MYD8VAQP8UX_",
        "colab": {
          "base_uri": "https://localhost:8080/",
          "height": 351
        },
        "outputId": "90998175-4181-4b69-c33a-8505a4177de1"
      },
      "execution_count": 143,
      "outputs": [
        {
          "output_type": "stream",
          "name": "stderr",
          "text": [
            "/usr/local/lib/python3.7/dist-packages/seaborn/distributions.py:2619: FutureWarning: `distplot` is a deprecated function and will be removed in a future version. Please adapt your code to use either `displot` (a figure-level function with similar flexibility) or `histplot` (an axes-level function for histograms).\n",
            "  warnings.warn(msg, FutureWarning)\n"
          ]
        },
        {
          "output_type": "execute_result",
          "data": {
            "text/plain": [
              "<matplotlib.axes._subplots.AxesSubplot at 0x7f21eaaa8e90>"
            ]
          },
          "metadata": {},
          "execution_count": 143
        },
        {
          "output_type": "display_data",
          "data": {
            "text/plain": [
              "<Figure size 432x288 with 1 Axes>"
            ],
            "image/png": "[encoded data removed]"
          },
          "metadata": {
            "needs_background": "light"
          }
        }
      ]
    },
    {
      "cell_type": "markdown",
      "source": [
        "this temperature column giving bell curve, and its range fall from 0 to 100 degree(F), and peak is on 60 degree(F) this means most accidents are happening those areas whose temperature lies between 60 to 80 degree(F). co-related with accidents happening in coastal areas."
      ],
      "metadata": {
        "id": "QAkeJrx31D8A"
      }
    },
    {
      "cell_type": "code",
      "source": [
        "df.Weather_Condition "
      ],
      "metadata": {
        "colab": {
          "base_uri": "https://localhost:8080/"
        },
        "id": "oXmSj_TB72sT",
        "outputId": "16aa3355-b98f-4550-c4db-72ecd2bbc4ad"
      },
      "execution_count": 148,
      "outputs": [
        {
          "output_type": "execute_result",
          "data": {
            "text/plain": [
              "0             Light Rain\n",
              "1             Light Rain\n",
              "2               Overcast\n",
              "3               Overcast\n",
              "4             Light Rain\n",
              "               ...      \n",
              "2845337             Fair\n",
              "2845338             Fair\n",
              "2845339    Partly Cloudy\n",
              "2845340             Fair\n",
              "2845341             Fair\n",
              "Name: Weather_Condition, Length: 2845342, dtype: object"
            ]
          },
          "metadata": {},
          "execution_count": 148
        }
      ]
    },
    {
      "cell_type": "code",
      "source": [
        "weather=df.Weather_Condition.value_counts()"
      ],
      "metadata": {
        "id": "pgnoqe0v8Wzp"
      },
      "execution_count": 152,
      "outputs": []
    },
    {
      "cell_type": "code",
      "source": [
        "weather[:10]"
      ],
      "metadata": {
        "colab": {
          "base_uri": "https://localhost:8080/"
        },
        "id": "-ht43JaS8jsh",
        "outputId": "f885a4be-d9b3-4f13-c232-b8a33eee598d"
      },
      "execution_count": 155,
      "outputs": [
        {
          "output_type": "execute_result",
          "data": {
            "text/plain": [
              "Fair                1107194\n",
              "Mostly Cloudy        363959\n",
              "Cloudy               348767\n",
              "Partly Cloudy        249939\n",
              "Clear                173823\n",
              "Light Rain           128403\n",
              "Overcast              84882\n",
              "Scattered Clouds      45132\n",
              "Light Snow            43752\n",
              "Fog                   41226\n",
              "Name: Weather_Condition, dtype: int64"
            ]
          },
          "metadata": {},
          "execution_count": 155
        }
      ]
    },
    {
      "cell_type": "code",
      "source": [
        "weather[:10].plot(kind='barh')"
      ],
      "metadata": {
        "colab": {
          "base_uri": "https://localhost:8080/",
          "height": 295
        },
        "id": "FkmMYC5a9Gtw",
        "outputId": "c2e60a5b-d3dd-476a-f2f9-2f0262a9381f"
      },
      "execution_count": 156,
      "outputs": [
        {
          "output_type": "execute_result",
          "data": {
            "text/plain": [
              "<matplotlib.axes._subplots.AxesSubplot at 0x7f21eaa85e10>"
            ]
          },
          "metadata": {},
          "execution_count": 156
        },
        {
          "output_type": "display_data",
          "data": {
            "text/plain": [
              "<Figure size 432x288 with 1 Axes>"
            ],
            "image/png": "[encoded data removed]"
          },
          "metadata": {
            "needs_background": "light"
          }
        }
      ]
    },
    {
      "cell_type": "markdown",
      "source": [
        "as most numbers of people go outside in fair weather condition there foremost accidents are happening on that weather conditions."
      ],
      "metadata": {
        "id": "zDOKE6ycRCTB"
      }
    },
    {
      "cell_type": "markdown",
      "source": [],
      "metadata": {
        "id": "hWQJV7L371_E"
      }
    },
    {
      "cell_type": "markdown",
      "source": [
        "## Summary and Conclusions\n",
        "\n",
        "\n",
        "\n",
        "1.  Number of accidents per city decrising     \n",
        "     exponentialy. That is in US there are very few \n",
        "     cities where accidents happens\n",
        "2.  Mostly accidents happens around at 12pm to 6pm.\n",
        "\n",
        "3.  Accidents are less in week ends as compare to weekdays.\n",
        "\n",
        "4. Accidents are most likely to happen during  \n",
        "   winters.\n",
        "\n",
        "5. Accidents are more in coastal areas. \n",
        "\n",
        "6. Most accidents happens in those areas where tempareture is not so high and not so less, as per latitude and longitude data also it indicates these are coastal areas."
      ],
      "metadata": {
        "id": "Z4azV6Ps3Zlq"
      }
    }
  ]
}